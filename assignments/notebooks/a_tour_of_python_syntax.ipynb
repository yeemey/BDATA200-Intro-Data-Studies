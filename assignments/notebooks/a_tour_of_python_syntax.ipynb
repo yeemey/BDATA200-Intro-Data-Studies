{
 "cells": [
  {
   "cell_type": "markdown",
   "metadata": {},
   "source": [
    "# A Tour of Python Syntax"
   ]
  },
  {
   "cell_type": "markdown",
   "metadata": {},
   "source": [
    "Just as spoken languages differ in grammar as well as vocabulary, programming languages are structured according to specific rules. Thankfully, these tend to be much more consistent than in spoken language. \n",
    "\n",
    "Like our tour of python data types, this chapter **is not** intended to teach you how to use all this syntax. We'll cover each of these types of syntax in later chapters in the context of specific biological examples. Right now, I just want us to get a 'birds-eye' overview of some of the features of python. \n",
    "\n",
    "Even though we're not really trying to learn how to use each of these methods quite yet, I hope seeing the range of common syntax in python will be helpful as an overview of what's possible using common techniques in python.\n",
    "\n",
    "\n",
    "#### Goals for this section\n",
    "After completing this chapter, and running all the **try it yourself** exercises, you should be able to:\n",
    "\n",
    "- Explain in general terms what `for` loops, `if` statements and `def`initions of custom functions do, and why one might want to use each\n",
    "- Identify when a piece of code is using a `for` loop, `if` statement, or function `def`inition - even if you don't yet understand what all the rest of the code is doing.\n",
    "- Begin to recognize some common features of how `for` loops, `if` statements and function `def`initions are written in python.\n",
    "\n",
    "What's **NOT** expected from reading this chapter:\n",
    "- If you are just learning python, I would not expect anyone to already know how to write their own `for` loops, `if` statements or function `def`initions from this chapter alone. Of course, if you are feeling brave you are welcome to try these out.  Just don't get frustrated if they don't work out for you just yet.\n",
    "- It's not expected from this chapter that you will remember all the details of syntax discussed in the chapter. This comes with practice. Don't worry - we will practice these skills by applying them to biological problems in later chapters."
   ]
  },
  {
   "cell_type": "markdown",
   "metadata": {},
   "source": [
    "# Functions\n",
    "\n",
    "When we learn anything complex, we tend to break it up into chunks. For example, if you are learning a new social dance you might learn one or more basic steps and simple turns before building up to more complex patterns or revisiting introductory movements to improve form, connection, and musicality. When you learned math, you built on fundamental ideas like how addition and subtraction work to learn more advanced topics.\n",
    "\n",
    "In python (and nearly all other programming languages), functions are a key way of breaking up your ideas into reusable 'chunks'. You can think of each function like a machine that has certain inputs, and given those inputs produces a predictable output. For instance, a sewing machine can sew a wide variety of different fabrics and threads. On many sewing machines, there are additional features you can adjust, like the thread tension or the specific foot you are using. Given some combination of fabric, thread, and settings, the sewing machine will then stitch the fabric.\n",
    "\n",
    "Python functions work similarly. Some can work without any adjustment. Others have required **arguments** that are specified based on order and/or optional **keyword arguments** specified by name. From those arguments and keyword arguments, the function will then **return** one or more different results.\n",
    "\n",
    "#### Calling functions\n",
    "\n",
    "Many functions are 'built-in' and come with python. Extra functions from special libraries can also be accessed by using `import` statements.\n",
    "\n",
    "You can tell when python code is calling a function because it will have the name of that function followed by parentheses (). `print` is one of the most commonly used built-in python functions. It prints text to the screen. What it prints depends on what **arguments** you pass to the `print` function. Here is an example:"
   ]
  },
  {
   "cell_type": "code",
   "execution_count": 10,
   "metadata": {},
   "outputs": [
    {
     "name": "stdout",
     "output_type": "stream",
     "text": [
      "Hello World!\n"
     ]
    }
   ],
   "source": [
    "print(\"Hello World!\")"
   ]
  },
  {
   "cell_type": "markdown",
   "metadata": {},
   "source": [
    "The important features of a call to a function in python are as follows:\n",
    "- it starts with the name of the function\n",
    "- the name of the function is immediately followed by an open parenthesis, like this `(`\n",
    "- any arguments to the function go in the middle. If there is more than one, they are separated by commas `,`.\n",
    "- it ends with a closed parenthesis `)`\n",
    "\n",
    "**Try it yourself**: try changing the text inside the print statement and rerunning the code. Can you get it to say something different?\n",
    "\n",
    "\n",
    "Here's another example of a built-in python function. The `len` function calculates the length of a string of text (and can also be used to calculate the number of items in other collections like a `list` or `dict`).\n",
    "\n",
    "Here's how you would call the len function in python:"
   ]
  },
  {
   "cell_type": "code",
   "execution_count": 11,
   "metadata": {},
   "outputs": [
    {
     "data": {
      "text/plain": [
       "62"
      ]
     },
     "execution_count": 11,
     "metadata": {},
     "output_type": "execute_result"
    }
   ],
   "source": [
    "len(\"ATCGTACGTACCGTACGTACGTACGTAGCTACGCGTGGGGGGGGCTAGCGATGCATCGTAGC\")"
   ]
  },
  {
   "cell_type": "markdown",
   "metadata": {},
   "source": [
    "**Try it yourself:** try changing the length of the DNA sequence in the code up above and see what output the function gives. Use a short sequence to check that the length the code gives is what you expect."
   ]
  },
  {
   "cell_type": "markdown",
   "metadata": {},
   "source": [
    "The `round` function rounds a number to a certain number of places. Therefore, it needs to know both the number, and how many decimal places you want to round it to. As mentioned above, you separate these two pieces of information or arguments with a comma, like this:"
   ]
  },
  {
   "cell_type": "code",
   "execution_count": 17,
   "metadata": {},
   "outputs": [
    {
     "data": {
      "text/plain": [
       "7.1"
      ]
     },
     "execution_count": 17,
     "metadata": {},
     "output_type": "execute_result"
    }
   ],
   "source": [
    "round(7.083423498,1)"
   ]
  },
  {
   "cell_type": "markdown",
   "metadata": {},
   "source": [
    "If you wish to save any results that a function `return`s, you can say what variable(s) you want to save the results to and add an equal sign before you call the function:"
   ]
  },
  {
   "cell_type": "code",
   "execution_count": 19,
   "metadata": {},
   "outputs": [
    {
     "name": "stdout",
     "output_type": "stream",
     "text": [
      "The age of the pangolin is 7.1 years\n"
     ]
    }
   ],
   "source": [
    "age = round(7.083423498,1)\n",
    "print(f\"The age of the pangolin is {age} years\")"
   ]
  },
  {
   "cell_type": "markdown",
   "metadata": {},
   "source": [
    "You can also call functions using variables as input. Indeed, it is common to pass information into a function as a variable, and then store the result in another variable, as shown in the example below:"
   ]
  },
  {
   "cell_type": "code",
   "execution_count": 16,
   "metadata": {},
   "outputs": [
    {
     "name": "stdout",
     "output_type": "stream",
     "text": [
      "The length of the sequence is: 5\n"
     ]
    }
   ],
   "source": [
    "sequence = \"AATGC\"\n",
    "sequence_length = len(sequence)\n",
    "print(\"The length of the sequence is:\",sequence_length)"
   ]
  },
  {
   "cell_type": "markdown",
   "metadata": {},
   "source": [
    "## `def`ining your own functions\n",
    "\n",
    "If python doesn't already have a function for something you want to do, don't worry! You can define your own using the `def` keyword. Just like the built-in functions, you can define what arguments or keyword arguments your function can accept, what it does, and what results it returns.\n",
    "\n",
    "Let's imagine that we need to convert a temperature in Farenheit into Celsius. The conversion we want to do is tempeature in Celsius = (temperature in Farenheit - 32) * (5/9). So for example 32 F would be 0 Celsius. \n",
    "\n",
    "Let's say we want to call our function `convert_to_celsius`. We can define a `convert_to_celsius` function in python as follows:"
   ]
  },
  {
   "cell_type": "code",
   "execution_count": 12,
   "metadata": {},
   "outputs": [],
   "source": [
    "def convert_to_celsius(temp_farenheit):\n",
    "    \"\"\"Convert a temperature in Farenheit to Celsius\n",
    "    temp_farenheit -- temperature in degrees Farenheit, as a float\n",
    "    \"\"\"\n",
    "    \n",
    "    temp_celsius = (temp_farenheit - 32) * (5/9)\n",
    "    return temp_celsius    "
   ]
  },
  {
   "cell_type": "markdown",
   "metadata": {},
   "source": [
    "There are several things to note here:\n",
    "   - The first line begins with the `def` (short for define) keyword, letting python know we're about to define a function.\n",
    "   - The word immediately after `def` is the name we want to give the function. Like all python variables, the name of the function can't have any spaces in it. Therefore, we use underscores `_` to separate words in function names. \n",
    "   - The first line of a function definition ends with a colon `:`.\n",
    "   - All the code that is part of a function is grouped together by indenting it one level more deeply than the surrounding code.\n",
    "   - Immediately after the line that defines the function, we have a string (starting with \"\"\") that says what the function does. This is called a `doc string` (short for documentation string). It lets people who want to use your function know exactly what it will do. It may also say what type of data each argument to your function should have (for example, temp_farenheit should be a decimal point number like 43.5)\n",
    "   - The `return` keyword is used to indicate what value the function should return. (If one were to forget to add the return keyword, the function would return `None`). In this case we want the function to return the temperature in Celsius, as stored in the variable `temp_celsius`, so we write `return temp_celsius`.\n",
    "   \n",
    "Finally you may have noticed that the code above didn't print anything to the screen. Despite this, it *did* do something important. It created a new function that we can refer to using the name `convert_to_celsius`. From now on, we can call this function just like other functions that came with python. Here's how we would use our new function:"
   ]
  },
  {
   "cell_type": "code",
   "execution_count": 13,
   "metadata": {},
   "outputs": [
    {
     "data": {
      "text/plain": [
       "0.0"
      ]
     },
     "execution_count": 13,
     "metadata": {},
     "output_type": "execute_result"
    }
   ],
   "source": [
    "convert_to_celsius(32)"
   ]
  },
  {
   "cell_type": "markdown",
   "metadata": {},
   "source": [
    "**Try it yourself**: look up the current temperature where you are in Farenheit (or estimate it) and then try modifying the above code to find the temperature in Celsius."
   ]
  },
  {
   "cell_type": "markdown",
   "metadata": {},
   "source": [
    "# Loops\n",
    "\n",
    "Loops in python are used to automate repetitive code. For example, imagine you wanted to do a biological analysis of each gene in the human genome. You wouldn't want to have to write a line of code for each of those genes - even using copy and paste liberally you'd be at the keyboard a very, very long time. And if you had to change something about the analysis you'd have to redo all that work.\n",
    "\n",
    "Loops let you tell the computer how to analyze just one of those genes, and then repeat that for each gene in the genome. If you have to change something about the analysis, you only have to change it in one place, which is much easier than changing it in many copied and pasted statements.\n",
    "\n",
    "#### `for` Loops in Python\n",
    "\n",
    "To get a first idea of how loops are written in python, let's start by imagining how we might explain a similar idea. If we were explaining this idea to a friend in English (in a slightly formal way) we might say something like:\n",
    "\n",
    "\"Think of the genome as a list of sequences. For each sequence in the genome, do the analysis that I'll tell you about in a moment.\"\n",
    "\n",
    "In python, the syntax is actually quite similar to that statement. Take a look at how such a loop looks in python:"
   ]
  },
  {
   "cell_type": "code",
   "execution_count": 70,
   "metadata": {},
   "outputs": [
    {
     "name": "stdout",
     "output_type": "stream",
     "text": [
      "The length of sequence ATCGTACGCTAG is 12 nucleotides.\n",
      "The length of sequence ATGCTAG is 7 nucleotides.\n",
      "The length of sequence CTACGTACG is 9 nucleotides.\n",
      "The length of sequence ATGCTAGTC is 9 nucleotides.\n",
      "The length of sequence ATCGTACGTGGGGGGTACG is 19 nucleotides.\n",
      "The length of sequence ATCTGAGCATCG is 12 nucleotides.\n",
      "Done\n"
     ]
    }
   ],
   "source": [
    "#Represent the genome as a list of sequences\n",
    "genome = [\"ATCGTACGCTAG\",\"ATGCTAG\",\"CTACGTACG\",\"ATGCTAGTC\",\"ATCGTACGTGGGGGGTACG\",\"ATCTGAGCATCG\"] \n",
    "\n",
    "#For each sequence, calculate length and print the result\n",
    "for sequence in genome:\n",
    "    gene_length = len(sequence)\n",
    "    print(f\"The length of sequence {sequence} is {gene_length} nucleotides.\")\n",
    "    \n",
    "#When we've gotten through all the sequences we are done\n",
    "print(\"Done\")"
   ]
  },
  {
   "cell_type": "markdown",
   "metadata": {},
   "source": [
    "This type of loop in python always starts with the word `for`, and is therefore called a '`for` loop'. Here are some key features of `for` loops in python:\n",
    "- the first line of the loop always start with the word `for`\n",
    "- the first line of the loop always ends with a colon `:`\n",
    "- the middle part of the loop - the stuff that will be repeated - is indented (i.e. has more spaces in front of it). It is typical to indent by 4 spaces.\n",
    "- python can tell you're done writing the repeating part when it first encounters text that doesn't have the extra indentation. This is why the word `Done` prints only once.\n",
    "\n",
    "We'll explore for loops throughout the text, beginning in the sections on using python to analyze DNA sequences. \n",
    "\n",
    "## Other topics related to Loops in Python.\n",
    "Some other more topics related to loops that you might see in examples you look up online include:\n",
    "\n",
    "**list  comprehensions**: Loops are often used to fill lists with items. List comprehensions let you use a `for` loop to make a list, without having to write the whole thing out. The basic format of a list comprehension is:\n",
    "\n",
    "`NEW_LIST = [CODE_TO_RUN for ITEM in COLLECTION]`\n",
    "\n",
    "Here's a short example that defines a list of DNA sequences, then uses a list comprehension to build a list holding the length of each sequence, in order:"
   ]
  },
  {
   "cell_type": "code",
   "execution_count": 71,
   "metadata": {},
   "outputs": [
    {
     "name": "stdout",
     "output_type": "stream",
     "text": [
      "The lengths of the sequences are: [12, 16, 9, 19]\n"
     ]
    }
   ],
   "source": [
    "genome = [\"ATCGTACGCTAG\",\"ATGCTAGCTACGTACG\",\"ATGCTAGTC\",\"ATCGTACGTGGGGGGTACG\"] \n",
    "# The next line is the list comprehension\n",
    "sequence_lengths = [len(sequence) for sequence in genome]\n",
    "print(f\"The lengths of the sequences are: {sequence_lengths}\")"
   ]
  },
  {
   "cell_type": "markdown",
   "metadata": {},
   "source": [
    "***Don't worry about being able to write list comprehensions just yet***. Instead, focus on taking in their structure so you can recognize them if you see them. If you come across code that has square brackets and the text inside the brackets includes a `for` statement, it's likely a list comprehension. There will be plenty of time to practice these when we are working on learning for loops."
   ]
  },
  {
   "cell_type": "markdown",
   "metadata": {},
   "source": [
    "**dict comprehensions** are similar to list comprehensions but let you make python dictionaries\n",
    "\n",
    "**while statements** While statements let you repeat an action until some condition is met. \n",
    "\n",
    "**continue and break keywords** These keywords let you change the way that loops run. `Continue` skips ahead to the next item in the loop, while `break` immediately ends the loop."
   ]
  },
  {
   "cell_type": "markdown",
   "metadata": {},
   "source": [
    "# Conditional Statements\n",
    "\n",
    "Along with loops, conditional statements are a core part of most programming languages. They let your code act differently depending on specific situations. The most common kind of if statement in python (and many other programming languages) is an '`if` statement'. Before we break down how `if` statements work, let's see how a simple one looks:"
   ]
  },
  {
   "cell_type": "code",
   "execution_count": 17,
   "metadata": {},
   "outputs": [
    {
     "name": "stdout",
     "output_type": "stream",
     "text": [
      "Hello!\n",
      "Goodbye\n"
     ]
    }
   ],
   "source": [
    "print_greeting = True\n",
    "\n",
    "if print_greeting:\n",
    "    print(\"Hello!\")\n",
    "print(\"Goodbye\")"
   ]
  },
  {
   "cell_type": "markdown",
   "metadata": {},
   "source": [
    "**Try it yourself**: Try changing the print_greeting variable to `False` (be sure to capitalize the `F`), and rerun the above example. What text prints to the screen? Based on your result, do you think the statement `print(\"Goodbye\")` is part of the if statement or not? What differences can you spot between the statement `print(\"Hello!\")` and `print(\"Goodbye\")` that might cause one to be in the if statement while the other is not?  \n",
    "\n",
    "#### The structure of `if` statements in python\n",
    "\n",
    "`if` statements in python always begin with the word `if` and end with a colon `:`. Between the `if` and the `:` goes any test that gives you back `True` or `False`. Finally, any code that should be run if the test comes back `True` is indented one level (typically 4 spaces).  \n",
    "\n",
    "#### Boolean expressions return True or False\n",
    "\n",
    "As discussed in our Tour of Python Data Types, `True` and `False` are called Boolean values. Similarly, tests that give you back `True` or `False` are called **Boolean expressions**. Boolean expressions often use special operators like `==` (equals), `!=` (not equal), `>` (greater than), `>=` (greater than or equal to), etc. So for instance, `3 == 1 + 2` returns `True` because the sum of 1 and 2 is 3, which does equal 3. Conversely `3 != 1+2` would return `False`, because the statement that 3 is not equal to 1 plus 2 is not correct.\n",
    "\n",
    "Here's a version of our simple example `if` statement with some notes written in as comments. Recall that anything after a `#` character is a comment that is ignored by python (but useful to humans reading python code)."
   ]
  },
  {
   "cell_type": "code",
   "execution_count": 72,
   "metadata": {},
   "outputs": [
    {
     "name": "stdout",
     "output_type": "stream",
     "text": [
      "Hello!\n",
      "Goodbye\n"
     ]
    }
   ],
   "source": [
    "print_greeting = True\n",
    "\n",
    "#The if statement starts here at the word `if`.\n",
    "#The Boolean expression is just print_greeting, which is True because\n",
    "#we set the variable print_greeting to True\n",
    "if print_greeting:\n",
    "    #Any code indented one level (like the next line)\n",
    "    #is part of the if statement\n",
    "    print(\"Hello!\")\n",
    "#The end of the if statement is indicated by returning\n",
    "#to a normal level of indentation\n",
    "print(\"Goodbye\")"
   ]
  },
  {
   "cell_type": "markdown",
   "metadata": {},
   "source": [
    "#### More complex if statements\n",
    "After an `if` statement you may also include an `else` statement that says what to do if the condition is *not* `True`. It may also include an `elif` statement that specifies another condition that is only tested for if the first statement is `False`. Just like the code within the `if` statement, code associated with an `else` or `elif` statement is indented one level. \n",
    "\n",
    "Try running the code below simulating a coin flip a couple times. You should see that sometimes you get heads and win, and other times you get tails and lose"
   ]
  },
  {
   "cell_type": "code",
   "execution_count": 19,
   "metadata": {},
   "outputs": [
    {
     "name": "stdout",
     "output_type": "stream",
     "text": [
      "You got tails\n",
      "You lose!\n"
     ]
    }
   ],
   "source": [
    "from random import choice\n",
    "coin_flip = choice([\"heads\",\"tails\"])\n",
    "\n",
    "print(f\"You got {coin_flip}\")\n",
    "\n",
    "if coin_flip == \"heads\":\n",
    "    print(\"You win!\")\n",
    "else:\n",
    "    print(\"You lose!\")"
   ]
  },
  {
   "cell_type": "markdown",
   "metadata": {},
   "source": [
    "# Classes "
   ]
  },
  {
   "cell_type": "markdown",
   "metadata": {},
   "source": [
    "Classes in python are used to create objects that can both hold information, and do things using that information. The various python data structures introduced earlier in the text are all classes. So for example there are classes that represent strings (`str`),lists (`list`), and dictionaries (`dict`) in python. As we saw in our tour of python data types, you can check what class any python object belongs to using the built-in `type` function.\n",
    "\n",
    "Let's try this ourselves to see what class each of the following belongs to:\n",
    "\n",
    "- `\"Hello!\"`\n",
    "- `4.2`\n",
    "- `7`\n",
    "- `[\"Africa\",\"Antarctica\",\"Asia\",\"Australia\",\"Europe\",\"North America\",\"South America\"]`\n",
    "- `{\"A\":\"Adenosine\",\"T\":\"Thymidine\",\"C\":\"Cytosine\",\"G\":\"Guanine\"}`\n",
    "\n",
    "I'll get us started with the first one:"
   ]
  },
  {
   "cell_type": "code",
   "execution_count": 23,
   "metadata": {},
   "outputs": [
    {
     "data": {
      "text/plain": [
       "str"
      ]
     },
     "execution_count": 23,
     "metadata": {},
     "output_type": "execute_result"
    }
   ],
   "source": [
    "type(\"Hello!\")"
   ]
  },
  {
   "cell_type": "markdown",
   "metadata": {},
   "source": [
    "The `type` of the string \"Hello\" was `str`, meaning that this particular string of text \"Hello!\" is an example or *instance* of the more general class that represents all strings of text in python. \n",
    "\n",
    "**Try it yourself**: Using the example above, try checking the type of each of the other python objects above. For example, you could check what kind of class defines `4.2` using the expression `type(4.2)`"
   ]
  },
  {
   "cell_type": "markdown",
   "metadata": {},
   "source": [
    "#### Defining your own `class` in python\n",
    "\n",
    "Defining custom classes is a relatively advanced skill. We will practice this after we have taken significant time getting comfortable using all the other syntax in this chapter.\n",
    "\n",
    "Here's a very simple example of when you might define a new `class`. If you were doing an ecological simulation involving ducks, you might write a class that defines what a duck is and what it can do. This involves telling python you want to make a new class using the `class` keyword, and then defining what that class can do by defining special functions called `class methods`. These are just like other functions (as described above), except that they take a special keyword called `self` as the first argument. This tells the function which example or *instance* of the class they belong to. One special `class method` typically has the odd-looking name `__init__` (`init` is short for `initialize` or set up). That method tells the class how to set up a new instance of the class.\n",
    "\n",
    "Here's an example of a simple class. It represents a duck that can quack:"
   ]
  },
  {
   "cell_type": "code",
   "execution_count": 73,
   "metadata": {},
   "outputs": [],
   "source": [
    "class Duck():\n",
    "    \"\"\"A duck\"\"\"\n",
    "    \n",
    "    def __init__(self,name=\"My Duck\"):\n",
    "        \"\"\"Make a new duck with a given name\n",
    "        name -- the duck's name a string\n",
    "        \"\"\"\n",
    "        self.Name = name\n",
    "        \n",
    "    def rename(self,new_name):\n",
    "        \"\"\"Rename the duck to a new name\n",
    "        new_name -- the duck's new name\n",
    "        \"\"\"\n",
    "        self.Name = new_name\n",
    "        \n",
    "    def quack(self):\n",
    "        \"\"\"Describe the duck quacking\"\"\"\n",
    "        print(f\"{self.Name} says,'QUACK!!!'\")"
   ]
  },
  {
   "cell_type": "markdown",
   "metadata": {},
   "source": [
    "This Duck object can do a couple of things that are defined by it's methods. It can store a name (in it's `self.Name` property). It can quack, using it's `quack` method. And it can be renamed using it's `rename` method.\n",
    "\n",
    "It's important to note that just like `def`ining a function doesn't really do anything on it's own, the `Duck` class represents a blueprint for a Duck, not any particular duck. To make specific Ducks, we call the Duck class just as if it was a function. Each instance of the `Duck` class will be one specific duck, that can have it's own name.\n",
    "\n",
    "Here's an example of creating three of them:"
   ]
  },
  {
   "cell_type": "code",
   "execution_count": 27,
   "metadata": {},
   "outputs": [],
   "source": [
    "huey = Duck(name=\"Huey\")\n",
    "dewey = Duck(name = \"Dewey\")\n",
    "louie = Duck(name = \"Louie\")"
   ]
  },
  {
   "cell_type": "markdown",
   "metadata": {},
   "source": [
    "Now we can have each duck quack:"
   ]
  },
  {
   "cell_type": "code",
   "execution_count": 32,
   "metadata": {},
   "outputs": [
    {
     "name": "stdout",
     "output_type": "stream",
     "text": [
      "Huey says,'QUACK!!!'\n",
      "Dewey says,'QUACK!!!'\n",
      "Louie says,'QUACK!!!'\n"
     ]
    }
   ],
   "source": [
    "huey.quack()\n",
    "dewey.quack()\n",
    "louie.quack()"
   ]
  },
  {
   "cell_type": "markdown",
   "metadata": {},
   "source": [
    "What's going on here?\n",
    "\n",
    "Each duck has methods (the things it can *do* as defined in it's class methods) and properties (data about that duck). Both methods and properties are referred to using the variable holding the duck, a period `.`, and then the name of the method or property.\n",
    "\n",
    "So for example, `huey.quack()` calls the `quack` method of the specific `Duck` that we saved in the `huey` variable. The quack method - which is shared by all Ducks -- looks up the name of this particular duck (using the self.Name property), and uses that to print out who says \"QUACK!!!\".\n",
    "\n",
    "We can show what a duck's name is by printing this property directly:"
   ]
  },
  {
   "cell_type": "code",
   "execution_count": 39,
   "metadata": {},
   "outputs": [
    {
     "name": "stdout",
     "output_type": "stream",
     "text": [
      "Huey's name is currently a duck formerly known as Huey\n"
     ]
    }
   ],
   "source": [
    "print(f\"Huey's name is currently {huey.Name}\")"
   ]
  },
  {
   "cell_type": "markdown",
   "metadata": {},
   "source": [
    "If we use the `rename` method to change a duck's name, the duck object will remember that change using it's self.Name property:"
   ]
  },
  {
   "cell_type": "code",
   "execution_count": 40,
   "metadata": {},
   "outputs": [
    {
     "name": "stdout",
     "output_type": "stream",
     "text": [
      "Huey's name is currently a duck formerly known as Huey\n"
     ]
    }
   ],
   "source": [
    "huey.rename(\"a duck formerly known as Huey\")\n",
    "print(f\"Huey's name is currently {huey.Name}\")"
   ]
  },
  {
   "cell_type": "markdown",
   "metadata": {},
   "source": [
    "## Congratulations! \n",
    "\n",
    "Whew! That is a *lot* of syntax. \n",
    "\n",
    "If you got this far congratulations! It's totally fine if you are feeling a little overwhelmed or if you don't 'get it' at this stage- that feeling is totally normal, and represents your brain processing new information and training itself to recognize new patterns. \n",
    "\n",
    "I have a similar feeling when learning a new dance routine: the first time through it feels utterly incomprehensible, and I feel like I will never be able to get it. But by the 5th time through, somehow things start to make more sense, even though much of that processing is unconscious.\n",
    "\n",
    "Remember that our main goal for this section is just to start to be able to recognize what `for` loops, `if` statements, function `def`initions, and `class` definitions look like in python - not yet to be able to write them or understand all of their details. (Of course, if you already know how to program in other languages, you might be ready to dive in and start experimenting, and that's great too!)\n",
    "\n",
    "Here's the positive side, and why we took the time to survey python data structures and syntax right at the start: **you've now seen all the major pieces of syntax you'll need to eventually learn to use python to tackle important bioinformatic problems**. We will spend much of this text focusing on using each of these techniques one by one, using biological examples. We will also practice combining different types of syntax in order to write more complex programs.\n",
    "\n",
    "If you are able to, now might be a great point to take a break, have a snack or a cup of coffee and space out for a moment. Then, just below, we'll try tying together some common elements among all these different pieces of syntax we were exposed to. There will also be some exercises where you can try identifying when different types of syntax are being used.\n",
    "\n",
    "## Common patterns in python syntax\n",
    "\n",
    "How can we tie together all of this new information and make it easier to start to learn? One way is to look for common patterns. There are some important commonalities in all the different types of python syntax we discussed in these examples. These include:\n",
    "\n",
    "- Each starts with a special keyword: every `for` loop starts with the keyword `for`, every `if` statement starts with `if`, every function `def`inition starts with `def` and every class definition starts with `class`.\n",
    "\n",
    "- The end of a line that defines a `for` loop, `if` statement, function definition or class definition ends with a colon `:`. The indented block of code that goes after the colon defines what is repeated by a `for` loop, what happens if the Boolean expression of an `if` statement evaluates to `True`, what a function does, and what methods and properties a `class` has.\n",
    "\n",
    "- Indentation - the number of spaces before a line of code - is used to organize python code. Unlike many programming languages where indentation is a personal choice, in python indentation is a key part of the syntax. How many spaces you put before your code (the 'level of indentation') helps python to tell which code is part of an `if` statement, `for` loop, function, or class. \n",
    "\n",
    "- In `class` definitions, there are two levels of indentation. The contents of the class are indented once relative to surrounding code, and the code for each class method is indented one more time. We will see later that it is common in python to combine different types of syntax, and use multiple levels of indentation to create more complex code. This can allow you to create nested structures such as an `if` statement within a `for` loop, a `for` loop within a function `def`inition, or a `for` loop inside another `for` loop.\n",
    "\n",
    "While revisiting each of these types of syntax, keeping these similarities in mind may make them easier to learn. You can focus on looking for keywords, where colons go, and the level of indentation. \n",
    "\n",
    "Now let's try some exercises to apply what we discussed:"
   ]
  },
  {
   "cell_type": "markdown",
   "metadata": {},
   "source": [
    "# Exercises\n",
    "\n",
    "You don't need to write any code for the exercises in this section. Instead, they ask you to either identify what kind of python syntax is being used from a code example that is written, or plan what kind of syntax you might use to accomplish a particular type of task. \n",
    "\n",
    "## Identification Exercises\n",
    "\n",
    "For each of the next set of questions, describe which syntax is used in the example code. For each choose **one or more** of the following options:\n",
    "   - a `for` loop \n",
    "   - an `if` statement \n",
    "   - a function definition \n",
    "   - a class definition\n",
    "   \n",
    "***Hint:*** You don't have to understand all the parts of the code to identify which of these type(s) of syntax each example uses and answer the question."
   ]
  },
  {
   "cell_type": "markdown",
   "metadata": {},
   "source": [
    "**Exercise 1. What type(s) of syntax does this code use?** (Choose one or more of: a `for` loop, an `if` statement, a function definition, a `class` definition)"
   ]
  },
  {
   "cell_type": "code",
   "execution_count": 66,
   "metadata": {},
   "outputs": [
    {
     "name": "stdout",
     "output_type": "stream",
     "text": [
      "The individual is heterozygous\n"
     ]
    }
   ],
   "source": [
    "# Alleles are genetic variants. \n",
    "# Humans have two copies of most alleles\n",
    "# Individuals with two alleles that are the same are homozygous\n",
    "# Individuals with two different alleles are heterozygoes\n",
    "# The code below tests which applies\n",
    "\n",
    "allele1 = \"A\"\n",
    "allele2 = \"a\"\n",
    "\n",
    "if allele1 == allele2:\n",
    "    print(\"The individual is homozygous\")\n",
    "else:\n",
    "    print(\"The individual is heterozygous\")"
   ]
  },
  {
   "cell_type": "markdown",
   "metadata": {},
   "source": [
    "**Exercise 2. What type(s) of syntax does this code use?** (Choose one or more of: a `for` loop, an `if` statement, a function definition, a class definition)"
   ]
  },
  {
   "cell_type": "code",
   "execution_count": 67,
   "metadata": {},
   "outputs": [
    {
     "name": "stdout",
     "output_type": "stream",
     "text": [
      "Lower case sequences: ['atcgtacgctg', 'aaat', 'atcgatcgcatgc', 'gggggg']\n"
     ]
    }
   ],
   "source": [
    "#Our goal is to convert a list of DNA sequences to lowercase\n",
    "\n",
    "sequences = [\"ATCGTACGCTG\",\"AAAT\",\"ATCGATCGCATGC\",\"GGGGGG\"]\n",
    "lowercase_sequences = []\n",
    "\n",
    "for seq in sequences:\n",
    "    lowercase_seq = seq.lower()\n",
    "    lowercase_sequences.append(lowercase_seq)\n",
    "    \n",
    "print(f\"Lower case sequences: {lowercase_sequences}\")"
   ]
  },
  {
   "cell_type": "markdown",
   "metadata": {},
   "source": [
    "**Exercise 3.  What type(s) of syntax does this code use?** (Choose one or more of: a `for` loop, an `if` statement, a function definition, a `class` definition)"
   ]
  },
  {
   "cell_type": "code",
   "execution_count": 68,
   "metadata": {},
   "outputs": [
    {
     "name": "stdout",
     "output_type": "stream",
     "text": [
      "AA found in sequence AAAA!\n",
      "AA not found in sequence ATAT!\n"
     ]
    },
    {
     "data": {
      "text/plain": [
       "False"
      ]
     },
     "execution_count": 68,
     "metadata": {},
     "output_type": "execute_result"
    }
   ],
   "source": [
    "# Define a quick way to test if a DNA sequence contains a shorter sequence within it\n",
    "\n",
    "def has_subsequence(sequence,subsequence):\n",
    "    \"\"\"Return True if subsequence is in sequence\n",
    "    \n",
    "    sequence -- the large DNA sequence you want to search,\n",
    "      as a python string.\n",
    "      \n",
    "    subsequence -- the smaller DNA sequence you want to look for,\n",
    "      also as a python string.\n",
    "    \"\"\"\n",
    "    \n",
    "    if subsequence in sequence:\n",
    "        print(f\"{subsequence} found in sequence {sequence}!\")\n",
    "        return True\n",
    "    else:\n",
    "        print(f\"{subsequence} not found in sequence {sequence}!\")\n",
    "        return False\n",
    "    \n",
    "#Example of how we would use this:\n",
    "has_subsequence(\"AAAA\",\"AA\")\n",
    "has_subsequence(\"ATAT\",\"AA\")"
   ]
  },
  {
   "cell_type": "markdown",
   "metadata": {},
   "source": [
    "## Planning exercises\n",
    "\n",
    "For each of the next set of exercises, describe what type of syntax you would use, and why. For example, you might begin your answer, *I would use a for loop because* ...\n",
    "\n",
    "**Exercise 4.** You would like your program to accept either DNA, RNA, or amino acid sequences. Depending on which kind of sequence your program is given, it needs to run different code. What type of syntax would you use to cause this to happen, and why?\n",
    "\n",
    "**Exercise 5.** You have written code that tries to estimate the chances that a particular type of bacteria is a human pathogen from it's genome sequence. Now you want to run that code on a set of 10,000 bacterial genomes.  What type of syntax would you use to cause your code to run once for each of your 10,000 genomes, and why?\n",
    "\n",
    "**Exercise 6.** In writing a long program that simulates evolution, you find that you keep having to repeat the same calculation over and over again. This is frustrating because you have to copy and paste a lot, and if you find a mistake in your calculation code you have to fix it in many different places. You'd like to fix this situation by defining how to do the calculation once, and then just telling the program to do it that way each time you need to do the calculation. What type of syntax would you use to do this and why?"
   ]
  },
  {
   "cell_type": "markdown",
   "metadata": {},
   "source": [
    "## [Reading Responses & Feedback](https://docs.google.com/forms/d/e/1FAIpQLSeUQPI_JbyKcX1juAFLt5z1CLzC2vTqaCYySUAYCNElNwZqqQ/viewform?usp=pp_url&entry.2118603224=Exploring+Python+-+Syntax)"
   ]
  }
 ],
 "metadata": {
  "kernelspec": {
   "display_name": "Python 3",
   "language": "python",
   "name": "python3"
  },
  "language_info": {
   "codemirror_mode": {
    "name": "ipython",
    "version": 3
   },
   "file_extension": ".py",
   "mimetype": "text/x-python",
   "name": "python",
   "nbconvert_exporter": "python",
   "pygments_lexer": "ipython3",
   "version": "3.7.2"
  }
 },
 "nbformat": 4,
 "nbformat_minor": 2
}
