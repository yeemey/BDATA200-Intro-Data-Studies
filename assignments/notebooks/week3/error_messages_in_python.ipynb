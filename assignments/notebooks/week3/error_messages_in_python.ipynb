{
 "cells": [
  {
   "cell_type": "markdown",
   "metadata": {},
   "source": [
    "# Learning From Errors in Python\n",
    "\n",
    "No one can learn a new spoken language without making all sorts of mistakes - ranging from those that are almost unnoticable to comical or mortifying misunderstandings. This is just part of the process - one tries having a conversation, and get's lots of feedback when things aren't quite right. Error messages in coding serve a similar purpose as gentle feedback from a friend when learning a spoken language. \n",
    "\n",
    "Although it can be frustrating to get error messages, it is important to recognize that they provide really valuable information. To understand what each is saying, it is useful to know a little bit about common kinds of errors in python, and what each is telling you. I strongly recommend *intentionally* triggering each kind of python error you can, and taking some notes about what the error message looks like. Then when you *unintentionally* get an error message, you'll already have a pretty good idea of what kind of issue might have produced it. \n",
    "Eventually, the types of bugs that become most scary are those that *don't* produce an error message. We will discuss later on in the text ways to use formal test code and unit testing to help guard against this type of bug.\n",
    "\n",
    ">**There are no penalties for getting lots of errors while coding** - every person who codes gets error messages. You just have to learn what they mean and how to fix them."
   ]
  },
  {
   "cell_type": "markdown",
   "metadata": {},
   "source": [
    "## Common Error Types in Python\n",
    "\n",
    "Below I list many common types of errors in python, and examples of how one might fix them. Feel free to either read through this top-to-bottom, or to skip around and use it as a reference when you encounter a particular type of error.\n",
    "\n",
    "The types of errors covered in the document are not all possible types of errors that can occur in python, but represent core types of errors that come up very often when coding. You can jump to specific errors or the Exercises using the links below:\n",
    "  \n",
    "\n",
    "[NameError](#NameError)  \n",
    "[SyntaxError](#SyntaxError)  \n",
    "[TypeError](#TypeError)  \n",
    "[ValueError](#ValueError)  \n",
    "[IndexError](#IndexError)  \n",
    "[AttributeError](#AttributeError)   \n",
    "[ZeroDivisionError](#ZeroDivisionError)  \n",
    "[Exercises](#Exercises)  \n",
    "[Further Reading](#Further-Reading)  \n"
   ]
  },
  {
   "cell_type": "markdown",
   "metadata": {},
   "source": [
    "### **`NameError`**\n",
    "\n",
    "`NameError`s are typically triggered when a variable that is referred to in your code doesn't exist. \n",
    "\n",
    "#### Mispelled variable names can produce `NameErrors`\n",
    "One common reason you might get a `NameError` is due to misspelling the name of a variable:"
   ]
  },
  {
   "cell_type": "code",
   "execution_count": 6,
   "metadata": {},
   "outputs": [
    {
     "ename": "NameError",
     "evalue": "name 'saquence' is not defined",
     "output_type": "error",
     "traceback": [
      "\u001b[0;31m---------------------------------------------------------------------------\u001b[0m",
      "\u001b[0;31mNameError\u001b[0m                                 Traceback (most recent call last)",
      "\u001b[0;32m<ipython-input-6-43c808f2514e>\u001b[0m in \u001b[0;36m<module>\u001b[0;34m\u001b[0m\n\u001b[1;32m      1\u001b[0m \u001b[0msequence\u001b[0m \u001b[0;34m=\u001b[0m \u001b[0;34m\"ATGCAT\"\u001b[0m\u001b[0;34m\u001b[0m\u001b[0;34m\u001b[0m\u001b[0m\n\u001b[0;32m----> 2\u001b[0;31m \u001b[0mprint\u001b[0m\u001b[0;34m(\u001b[0m\u001b[0msaquence\u001b[0m\u001b[0;34m)\u001b[0m\u001b[0;34m\u001b[0m\u001b[0;34m\u001b[0m\u001b[0m\n\u001b[0m",
      "\u001b[0;31mNameError\u001b[0m: name 'saquence' is not defined"
     ]
    }
   ],
   "source": [
    "sequence = \"ATGCAT\"\n",
    "print(saquence)"
   ]
  },
  {
   "cell_type": "markdown",
   "metadata": {},
   "source": [
    "The error message specifies that the name 'saquence' is not defined. This means that the code refers to a variable (`saquence`) that doesn't exist. In this case, fixing the spelling should resolve the problem, because the variable `sequence` that we probably meant to refer to does exist.:"
   ]
  },
  {
   "cell_type": "code",
   "execution_count": 7,
   "metadata": {},
   "outputs": [
    {
     "name": "stdout",
     "output_type": "stream",
     "text": [
      "ATGCAT\n"
     ]
    }
   ],
   "source": [
    "sequence = \"ATGCAT\"\n",
    "print(sequence)"
   ]
  },
  {
   "cell_type": "markdown",
   "metadata": {},
   "source": [
    "#### Incorrectly capitalized variable names can produce `NameErrors`\n",
    "\n",
    "Python treats capitalized and uncapitalized versions of the same variable as totally different. So a variable called `dog` is totally different from `Dog` or `DOG`. If you defined a variable as lowercase, but accidentally refer to it using capital letters then it will produce a NameError:"
   ]
  },
  {
   "cell_type": "code",
   "execution_count": 46,
   "metadata": {},
   "outputs": [
    {
     "ename": "NameError",
     "evalue": "name 'Input_Dir' is not defined",
     "output_type": "error",
     "traceback": [
      "\u001b[0;31m---------------------------------------------------------------------------\u001b[0m",
      "\u001b[0;31mNameError\u001b[0m                                 Traceback (most recent call last)",
      "\u001b[0;32m<ipython-input-46-b2cb3f7f9489>\u001b[0m in \u001b[0;36m<module>\u001b[0;34m\u001b[0m\n\u001b[1;32m      1\u001b[0m \u001b[0minput_dir\u001b[0m \u001b[0;34m=\u001b[0m \u001b[0;34m\"./data\"\u001b[0m\u001b[0;34m\u001b[0m\u001b[0;34m\u001b[0m\u001b[0m\n\u001b[0;32m----> 2\u001b[0;31m \u001b[0mprint\u001b[0m\u001b[0;34m(\u001b[0m\u001b[0;34mf\"Processing data in directory {Input_Dir}\"\u001b[0m\u001b[0;34m)\u001b[0m\u001b[0;34m\u001b[0m\u001b[0;34m\u001b[0m\u001b[0m\n\u001b[0m",
      "\u001b[0;31mNameError\u001b[0m: name 'Input_Dir' is not defined"
     ]
    }
   ],
   "source": [
    "input_dir = \"./data\"\n",
    "print(f\"Processing data in directory {Input_Dir}\")"
   ]
  },
  {
   "cell_type": "markdown",
   "metadata": {},
   "source": [
    "We can fix this by making sure our capitalization is consistent."
   ]
  },
  {
   "cell_type": "code",
   "execution_count": 47,
   "metadata": {},
   "outputs": [
    {
     "name": "stdout",
     "output_type": "stream",
     "text": [
      "Processing data in directory ./data\n"
     ]
    }
   ],
   "source": [
    "input_dir = \"./data\"\n",
    "print(f\"Processing data in directory {input_dir}\")"
   ]
  },
  {
   "cell_type": "markdown",
   "metadata": {},
   "source": [
    "In python, the standard is that all 'normal' variables and function names are lowercase, like our `input_dir` variable. \n",
    "\n",
    "The main exceptions to this rule are special `global` variables that are typically all caps (`VERBOSE`), and   custom classes that are written with each word capitalized (`CodonUsage`). These conventions make it easier to tell what each variable is. They also makes it easy to avoid `NameError`s due to incorrect capitaliztion, because you don't have to guess!"
   ]
  },
  {
   "cell_type": "markdown",
   "metadata": {},
   "source": [
    "#### Using an external function without importing it can produce `NameErrors`\n",
    "\n",
    "Another common reason is that you tried to use a function from an external library like `pandas` or `numpy` without first importing it."
   ]
  },
  {
   "cell_type": "code",
   "execution_count": 13,
   "metadata": {},
   "outputs": [
    {
     "name": "stdout",
     "output_type": "stream",
     "text": [
      "The coin flip is: heads\n"
     ]
    }
   ],
   "source": [
    "coin = [\"heads\",\"tails\"]\n",
    "flip = choice(coin)\n",
    "print(\"The coin flip is:\", flip)"
   ]
  },
  {
   "cell_type": "markdown",
   "metadata": {},
   "source": [
    "The `NameError` says `choice` is not defined because this function isn't one of the built-in functions that are always available in python. Instead it is part of the `random` library for working with pseudorandom numbers, and has to be imported before it can be used."
   ]
  },
  {
   "cell_type": "code",
   "execution_count": 14,
   "metadata": {},
   "outputs": [
    {
     "name": "stdout",
     "output_type": "stream",
     "text": [
      "The coin flip is: heads\n"
     ]
    }
   ],
   "source": [
    "from random import choice\n",
    "coin = [\"heads\",\"tails\"]\n",
    "flip = choice(coin)\n",
    "print(\"The coin flip is:\", flip)"
   ]
  },
  {
   "cell_type": "markdown",
   "metadata": {},
   "source": [
    "## **`SyntaxError`**\n",
    "\n",
    "`SyntaxError`s occur when the syntax or grammar of what you are trying to do can't be interpreted by python.  \n",
    "\n",
    "#### **Mismatched parentheses** can cause `SyntaxError`s\n",
    "One common syntax error is to forget to close a parentheses:"
   ]
  },
  {
   "cell_type": "code",
   "execution_count": 19,
   "metadata": {},
   "outputs": [
    {
     "ename": "SyntaxError",
     "evalue": "unexpected EOF while parsing (<ipython-input-19-73b2b6fc1c24>, line 1)",
     "output_type": "error",
     "traceback": [
      "\u001b[0;36m  File \u001b[0;32m\"<ipython-input-19-73b2b6fc1c24>\"\u001b[0;36m, line \u001b[0;32m1\u001b[0m\n\u001b[0;31m    print(\"Hello\"\u001b[0m\n\u001b[0m                 ^\u001b[0m\n\u001b[0;31mSyntaxError\u001b[0m\u001b[0;31m:\u001b[0m unexpected EOF while parsing\n"
     ]
    }
   ],
   "source": [
    "print(\"Hello\""
   ]
  },
  {
   "cell_type": "markdown",
   "metadata": {},
   "source": [
    "The text of the `SyntaxError` might seem strange - it says `unexpected EOF while parsing`. EOF is short for 'end of file'. The end of the file (or more generally the python code) was 'unexpected' because python had found an open parenthesis `(` but reached the end of the file before finding it's mate `)`. \n",
    "\n",
    "We can correct this error by adding the missing parenthesis:"
   ]
  },
  {
   "cell_type": "code",
   "execution_count": 157,
   "metadata": {
    "scrolled": true
   },
   "outputs": [
    {
     "name": "stdout",
     "output_type": "stream",
     "text": [
      "Hello\n"
     ]
    }
   ],
   "source": [
    "print(\"Hello\")"
   ]
  },
  {
   "cell_type": "markdown",
   "metadata": {},
   "source": [
    "One sneaky thing about `SyntaxErrors` is that sometimes a mistake on one line will cause a `SyntaxError` on the *next* line. This is because the mistake on the prior line changes how python tries to interpret the later (perfectly good) line. Here's an example:"
   ]
  },
  {
   "cell_type": "code",
   "execution_count": 156,
   "metadata": {},
   "outputs": [
    {
     "ename": "SyntaxError",
     "evalue": "invalid syntax (<ipython-input-156-8a028dc4a732>, line 2)",
     "output_type": "error",
     "traceback": [
      "\u001b[0;36m  File \u001b[0;32m\"<ipython-input-156-8a028dc4a732>\"\u001b[0;36m, line \u001b[0;32m2\u001b[0m\n\u001b[0;31m    print(\"No Bugs Here\")\u001b[0m\n\u001b[0m        ^\u001b[0m\n\u001b[0;31mSyntaxError\u001b[0m\u001b[0;31m:\u001b[0m invalid syntax\n"
     ]
    }
   ],
   "source": [
    "print(\"Hello\"\n",
    "print(\"No Bugs Here\")"
   ]
  },
  {
   "cell_type": "code",
   "execution_count": 155,
   "metadata": {},
   "outputs": [
    {
     "name": "stdout",
     "output_type": "stream",
     "text": [
      "Hello\n",
      "No Bugs Here\n"
     ]
    }
   ],
   "source": [
    "print(\"Hello\")\n",
    "print(\"No Bugs Here\")"
   ]
  },
  {
   "cell_type": "markdown",
   "metadata": {},
   "source": [
    "In order to fix this error, we can't only focus on the line that generated the error - line 2 is actually fine, it's just that a mistake in line 1 is causing it to be misinterpreted. We fix this error in exactly the same way as shown above"
   ]
  },
  {
   "cell_type": "markdown",
   "metadata": {},
   "source": [
    "#### **Missing commas** in lists and other data structures can cause `SyntaxErrors`s\n",
    "\n",
    "If you forget a comma when defining a list or tuple or dict of numbers, you will get a `SyntaxError` like the one below:"
   ]
  },
  {
   "cell_type": "code",
   "execution_count": 30,
   "metadata": {},
   "outputs": [
    {
     "ename": "SyntaxError",
     "evalue": "invalid syntax (<ipython-input-30-9f29d502336a>, line 1)",
     "output_type": "error",
     "traceback": [
      "\u001b[0;36m  File \u001b[0;32m\"<ipython-input-30-9f29d502336a>\"\u001b[0;36m, line \u001b[0;32m1\u001b[0m\n\u001b[0;31m    tumor_masses = [1,13 24]\u001b[0m\n\u001b[0m                          ^\u001b[0m\n\u001b[0;31mSyntaxError\u001b[0m\u001b[0;31m:\u001b[0m invalid syntax\n"
     ]
    }
   ],
   "source": [
    "tumor_masses = [1,13 24]\n",
    "print(tumor_masses)"
   ]
  },
  {
   "cell_type": "markdown",
   "metadata": {},
   "source": [
    "You can fix this by finding the spot where the missing comma occurs:"
   ]
  },
  {
   "cell_type": "code",
   "execution_count": 31,
   "metadata": {},
   "outputs": [],
   "source": [
    "tumor_masses = [1,13,24]"
   ]
  },
  {
   "cell_type": "markdown",
   "metadata": {},
   "source": [
    "#### Missing colons can cause `SyntaxError`s\n",
    "\n",
    "Similar SyntaxErrors can arise if one omits the `:` in an `if` statement, `for` loop or function `def`inition."
   ]
  },
  {
   "cell_type": "code",
   "execution_count": 38,
   "metadata": {},
   "outputs": [
    {
     "ename": "SyntaxError",
     "evalue": "invalid syntax (<ipython-input-38-dcab63ffe56b>, line 1)",
     "output_type": "error",
     "traceback": [
      "\u001b[0;36m  File \u001b[0;32m\"<ipython-input-38-dcab63ffe56b>\"\u001b[0;36m, line \u001b[0;32m1\u001b[0m\n\u001b[0;31m    for i,mass in enumerate(tumor_masses)\u001b[0m\n\u001b[0m                                         ^\u001b[0m\n\u001b[0;31mSyntaxError\u001b[0m\u001b[0;31m:\u001b[0m invalid syntax\n"
     ]
    }
   ],
   "source": [
    "for i,mass in enumerate(tumor_masses)\n",
    "    print(f\"The mass of tumor {i} is {mass}\")"
   ]
  },
  {
   "cell_type": "markdown",
   "metadata": {},
   "source": [
    "Such errors can be corrected by adding the necessary `:`"
   ]
  },
  {
   "cell_type": "code",
   "execution_count": 39,
   "metadata": {},
   "outputs": [
    {
     "name": "stdout",
     "output_type": "stream",
     "text": [
      "The mass of tumor 0 is 1\n",
      "The mass of tumor 1 is 13\n",
      "The mass of tumor 2 is 24\n"
     ]
    }
   ],
   "source": [
    "for i,mass in enumerate(tumor_masses):\n",
    "    print(f\"The mass of tumor {i} is {mass}\")"
   ]
  },
  {
   "cell_type": "markdown",
   "metadata": {},
   "source": [
    "#### Including a space in a variable name can trigger a SyntaxError\n",
    "\n",
    "You're probably getting the idea of what general categories of mistakes cause SyntaxErrors. I'll highlight one last common source of such errors. Python variables are only allowed to be one 'word' long - they cannot include spaces. Longer variable names are separated by underscores (hold `Shift` and hit `-` to make `_`). Let's imagine that we accidentally forgot the underscore. We would get a `SyntaxError`:"
   ]
  },
  {
   "cell_type": "code",
   "execution_count": 41,
   "metadata": {},
   "outputs": [
    {
     "ename": "SyntaxError",
     "evalue": "invalid syntax (<ipython-input-41-797d50ac175b>, line 1)",
     "output_type": "error",
     "traceback": [
      "\u001b[0;36m  File \u001b[0;32m\"<ipython-input-41-797d50ac175b>\"\u001b[0;36m, line \u001b[0;32m1\u001b[0m\n\u001b[0;31m    generation time = 15.0\u001b[0m\n\u001b[0m                  ^\u001b[0m\n\u001b[0;31mSyntaxError\u001b[0m\u001b[0;31m:\u001b[0m invalid syntax\n"
     ]
    }
   ],
   "source": [
    "generation time = 15.0"
   ]
  },
  {
   "cell_type": "markdown",
   "metadata": {},
   "source": [
    "We could fix this error by ensuring each variable is a single word:"
   ]
  },
  {
   "cell_type": "code",
   "execution_count": 43,
   "metadata": {},
   "outputs": [],
   "source": [
    "generation_time = 15.0"
   ]
  },
  {
   "cell_type": "markdown",
   "metadata": {},
   "source": [
    "### **`IndexError`**\n",
    "\n",
    "Indices in python are used to select items in order from strings or lists. `IndexError`s indicate that the index you gave isn't present. Here's an example: let's say we have a string of text that is only 2 characters long. If we try to select character 10,000, python gives us an IndexError: "
   ]
  },
  {
   "cell_type": "code",
   "execution_count": 85,
   "metadata": {},
   "outputs": [
    {
     "ename": "IndexError",
     "evalue": "string index out of range",
     "output_type": "error",
     "traceback": [
      "\u001b[0;31m---------------------------------------------------------------------------\u001b[0m",
      "\u001b[0;31mIndexError\u001b[0m                                Traceback (most recent call last)",
      "\u001b[0;32m<ipython-input-85-2ef979814211>\u001b[0m in \u001b[0;36m<module>\u001b[0;34m\u001b[0m\n\u001b[1;32m      1\u001b[0m \u001b[0mid\u001b[0m \u001b[0;34m=\u001b[0m \u001b[0;34m\"H7\"\u001b[0m\u001b[0;34m\u001b[0m\u001b[0;34m\u001b[0m\u001b[0m\n\u001b[0;32m----> 2\u001b[0;31m \u001b[0mid\u001b[0m\u001b[0;34m[\u001b[0m\u001b[0;36m10000\u001b[0m\u001b[0;34m]\u001b[0m\u001b[0;34m\u001b[0m\u001b[0;34m\u001b[0m\u001b[0m\n\u001b[0m",
      "\u001b[0;31mIndexError\u001b[0m: string index out of range"
     ]
    }
   ],
   "source": [
    "id = \"H7\"\n",
    "id[10000]"
   ]
  },
  {
   "cell_type": "markdown",
   "metadata": {},
   "source": [
    "The `IndexError` says our string index is out of range. To correct this, we need to use an index that is within the length of the string."
   ]
  },
  {
   "cell_type": "code",
   "execution_count": 86,
   "metadata": {},
   "outputs": [
    {
     "data": {
      "text/plain": [
       "'H'"
      ]
     },
     "execution_count": 86,
     "metadata": {},
     "output_type": "execute_result"
    }
   ],
   "source": [
    "id = \"H7\"\n",
    "id[0]"
   ]
  },
  {
   "cell_type": "markdown",
   "metadata": {},
   "source": [
    "The example above was intentionally rather obvious, but this type of errors most often happen because we were off by one number. Since python indices start at 0, the biggest index we can select is 1 smaller than the length of a string. So for instance, if a string is 2 characters long the largest index we can select is index 1. If we try to figure out the highest index using the full length of a string, we will be off by one and get an `IndexError`"
   ]
  },
  {
   "cell_type": "code",
   "execution_count": 88,
   "metadata": {},
   "outputs": [
    {
     "ename": "IndexError",
     "evalue": "string index out of range",
     "output_type": "error",
     "traceback": [
      "\u001b[0;31m---------------------------------------------------------------------------\u001b[0m",
      "\u001b[0;31mIndexError\u001b[0m                                Traceback (most recent call last)",
      "\u001b[0;32m<ipython-input-88-2916cd160377>\u001b[0m in \u001b[0;36m<module>\u001b[0;34m\u001b[0m\n\u001b[1;32m      1\u001b[0m \u001b[0msequence\u001b[0m \u001b[0;34m=\u001b[0m \u001b[0;34m\"ATCGTGAGCGGCGGC\"\u001b[0m\u001b[0;34m\u001b[0m\u001b[0;34m\u001b[0m\u001b[0m\n\u001b[1;32m      2\u001b[0m \u001b[0mseq_length\u001b[0m \u001b[0;34m=\u001b[0m \u001b[0mlen\u001b[0m\u001b[0;34m(\u001b[0m\u001b[0msequence\u001b[0m\u001b[0;34m)\u001b[0m\u001b[0;34m\u001b[0m\u001b[0;34m\u001b[0m\u001b[0m\n\u001b[0;32m----> 3\u001b[0;31m \u001b[0msequence\u001b[0m\u001b[0;34m[\u001b[0m\u001b[0mseq_length\u001b[0m\u001b[0;34m]\u001b[0m\u001b[0;34m\u001b[0m\u001b[0;34m\u001b[0m\u001b[0m\n\u001b[0m",
      "\u001b[0;31mIndexError\u001b[0m: string index out of range"
     ]
    }
   ],
   "source": [
    "sequence = \"ATCGTGAGCGGCGGC\"\n",
    "seq_length = len(sequence)\n",
    "last_nt = sequence[seq_length]"
   ]
  },
  {
   "cell_type": "markdown",
   "metadata": {},
   "source": [
    "We can fix this error by recognizing that the maximum index is the length of the sequence - 1"
   ]
  },
  {
   "cell_type": "code",
   "execution_count": 94,
   "metadata": {},
   "outputs": [],
   "source": [
    "sequence = \"ATCGTGAGCGGCGGC\"\n",
    "seq_length = len(sequence)\n",
    "last_nt = sequence[seq_length - 1] "
   ]
  },
  {
   "cell_type": "markdown",
   "metadata": {},
   "source": [
    "As we discussed when we first learned about indexing into strings, it can help to imagine the indices as numbers that start from 0 and are written below and to the left of each character. So `common_name = \"dog\"` could be imagined like `common_name = \"` <sub>0</sub>`d` <sub>1</sub>`o` <sub>2</sub>`g`\". Imagined this way, you can think of each index as selecting the number to the right of the index. Negative indices work similarly, counting backwards from the right hand side of the string or list. However because indices select what is to the right of them, the first negative index is -1, because by definition there is no item to the right of the last item in a string or list (where index -0 would normally go). Marking up our `\"dog\"` example with negative indices, we would get: `common_name = \"` <sub>-3</sub>`d` <sub>-2</sub>`o` <sub>-1</sub>`g`\". This is slightly tricky, because it means that the largest *negative* index one can use is the length of the sequence rather than the length of the sequence minus 1."
   ]
  },
  {
   "cell_type": "code",
   "execution_count": 96,
   "metadata": {},
   "outputs": [
    {
     "data": {
      "text/plain": [
       "'o'"
      ]
     },
     "execution_count": 96,
     "metadata": {},
     "output_type": "execute_result"
    }
   ],
   "source": [
    "common_name = \"dog\"\n",
    "common_name[-2] "
   ]
  },
  {
   "cell_type": "markdown",
   "metadata": {},
   "source": [
    "This doesn't raise an error, but might get us the wrong character. Using `common_name[-3] will more correctly get us the first letter`. In most contexts we would access this using common_name[0] (forward indexing), but every now and again inside e.g. a `for` loop it is important to be able to index in reverse order."
   ]
  },
  {
   "cell_type": "code",
   "execution_count": 97,
   "metadata": {},
   "outputs": [
    {
     "data": {
      "text/plain": [
       "'d'"
      ]
     },
     "execution_count": 97,
     "metadata": {},
     "output_type": "execute_result"
    }
   ],
   "source": [
    "common_name = \"dog\"\n",
    "common_name[-3] "
   ]
  },
  {
   "cell_type": "markdown",
   "metadata": {},
   "source": [
    "I find this hard to remember if I think about it mathematically, but a bit easier if I visualize or draw out the indices as shown above."
   ]
  },
  {
   "cell_type": "markdown",
   "metadata": {},
   "source": [
    "### **`TypeError`**\n",
    "\n",
    "`TypeError`s indicate that the type of variable you are using can never be used for the operation you were trying to perform. As a real world analogy, no matter what type of construction tool you have in your hand, it's probably a bad idea to eat it - construction tools are just not the type of thing you can eat. \n",
    "\n",
    "#### Trying to loop over a non-iterable object will produce a TypeError\n",
    "Here's an example, in python you cannot run a for loop over an integer. Attempting to do so will generate a `TypeError`, because an integer is not an *iterable* object, and therefore cannot be used in this way. \n",
    "\n",
    "For instance, imagine we wanted to print to screen x and y data before using them in a plot. If we tried to iterate over an integer, we'd get a `TypeError`"
   ]
  },
  {
   "cell_type": "code",
   "execution_count": 57,
   "metadata": {},
   "outputs": [
    {
     "name": "stdout",
     "output_type": "stream",
     "text": [
      "x and y data:\n"
     ]
    },
    {
     "ename": "TypeError",
     "evalue": "'int' object is not iterable",
     "output_type": "error",
     "traceback": [
      "\u001b[0;31m---------------------------------------------------------------------------\u001b[0m",
      "\u001b[0;31mTypeError\u001b[0m                                 Traceback (most recent call last)",
      "\u001b[0;32m<ipython-input-57-096781cd985d>\u001b[0m in \u001b[0;36m<module>\u001b[0;34m\u001b[0m\n\u001b[1;32m      1\u001b[0m \u001b[0mprint\u001b[0m\u001b[0;34m(\u001b[0m\u001b[0;34m\"x and y data:\"\u001b[0m\u001b[0;34m)\u001b[0m\u001b[0;34m\u001b[0m\u001b[0;34m\u001b[0m\u001b[0m\n\u001b[0;32m----> 2\u001b[0;31m \u001b[0;32mfor\u001b[0m \u001b[0mx\u001b[0m \u001b[0;32min\u001b[0m \u001b[0;36m3\u001b[0m\u001b[0;34m:\u001b[0m\u001b[0;34m\u001b[0m\u001b[0;34m\u001b[0m\u001b[0m\n\u001b[0m\u001b[1;32m      3\u001b[0m     \u001b[0my\u001b[0m \u001b[0;34m=\u001b[0m \u001b[0mx\u001b[0m\u001b[0;34m**\u001b[0m\u001b[0;36m2\u001b[0m\u001b[0;34m\u001b[0m\u001b[0;34m\u001b[0m\u001b[0m\n\u001b[1;32m      4\u001b[0m     \u001b[0mprint\u001b[0m\u001b[0;34m(\u001b[0m\u001b[0mx\u001b[0m\u001b[0;34m,\u001b[0m\u001b[0my\u001b[0m\u001b[0;34m)\u001b[0m\u001b[0;34m\u001b[0m\u001b[0;34m\u001b[0m\u001b[0m\n",
      "\u001b[0;31mTypeError\u001b[0m: 'int' object is not iterable"
     ]
    }
   ],
   "source": [
    "print(\"x and y data:\")\n",
    "for x in 3:\n",
    "    y = x**2\n",
    "    print(x,y)"
   ]
  },
  {
   "cell_type": "markdown",
   "metadata": {},
   "source": [
    "We can fix this way by replacing our number with a list of numbers, or using a function like range to generate all the numbers from 0 up to our integer:"
   ]
  },
  {
   "cell_type": "code",
   "execution_count": 60,
   "metadata": {},
   "outputs": [
    {
     "name": "stdout",
     "output_type": "stream",
     "text": [
      "x and y data:\n",
      "0 0\n",
      "1 1\n",
      "2 4\n",
      "x and y data:\n",
      "0 0\n",
      "1 1\n",
      "2 4\n"
     ]
    }
   ],
   "source": [
    "#One possible solution is to loop over a list of numbers\n",
    "print(\"x and y data:\")\n",
    "for x in [0,1,2]:\n",
    "    y = x**2\n",
    "    print(x,y)\n",
    "\n",
    "#A more elegant solution is to use range() to generate numbers to iterate over\n",
    "print(\"x and y data:\")   \n",
    "for x in range(3):\n",
    "    y = x**2\n",
    "    print(x,y)\n",
    "    \n"
   ]
  },
  {
   "cell_type": "markdown",
   "metadata": {},
   "source": [
    "Both the above solutions avoid the TypeError. "
   ]
  },
  {
   "cell_type": "markdown",
   "metadata": {},
   "source": [
    "#### Trying to do unsupported math operations on strings produces `TypeError `s\n",
    "\n",
    "In python, you cannot divide a string of text by some number - that doesn't really make any sense, and no matter what the text is and what the number is, that type of operation will just never work. \n",
    "\n",
    "This is obvious in some cases, like the one below:"
   ]
  },
  {
   "cell_type": "code",
   "execution_count": 64,
   "metadata": {},
   "outputs": [
    {
     "ename": "TypeError",
     "evalue": "unsupported operand type(s) for /: 'str' and 'int'",
     "output_type": "error",
     "traceback": [
      "\u001b[0;31m---------------------------------------------------------------------------\u001b[0m",
      "\u001b[0;31mTypeError\u001b[0m                                 Traceback (most recent call last)",
      "\u001b[0;32m<ipython-input-64-3b0cec992160>\u001b[0m in \u001b[0;36m<module>\u001b[0;34m\u001b[0m\n\u001b[1;32m      1\u001b[0m \u001b[0mscientific_name\u001b[0m \u001b[0;34m=\u001b[0m \u001b[0;34m\"Homo sapiens\"\u001b[0m\u001b[0;34m\u001b[0m\u001b[0;34m\u001b[0m\u001b[0m\n\u001b[0;32m----> 2\u001b[0;31m \u001b[0mgenus\u001b[0m \u001b[0;34m=\u001b[0m \u001b[0mscientific_name\u001b[0m \u001b[0;34m/\u001b[0m \u001b[0;36m2\u001b[0m \u001b[0;31m#???\u001b[0m\u001b[0;34m\u001b[0m\u001b[0;34m\u001b[0m\u001b[0m\n\u001b[0m\u001b[1;32m      3\u001b[0m \u001b[0mprint\u001b[0m\u001b[0;34m(\u001b[0m\u001b[0mgenus\u001b[0m\u001b[0;34m)\u001b[0m\u001b[0;34m\u001b[0m\u001b[0;34m\u001b[0m\u001b[0m\n",
      "\u001b[0;31mTypeError\u001b[0m: unsupported operand type(s) for /: 'str' and 'int'"
     ]
    }
   ],
   "source": [
    "scientific_name = \"Homo sapiens\"\n",
    "genus = scientific_name / 2 #???\n",
    "print(genus)"
   ]
  },
  {
   "cell_type": "markdown",
   "metadata": {},
   "source": [
    "There's no direct solution to this kind of TypeError, other than to change your approach. For example, in the above example, it sort of looks like the coder was trying to split the binomial scientific name up into it's genus ('Homo') and species ('sapiens') components. Since a division operator won't do that, we could use a more appropriate method, such as the `split` method of strings:"
   ]
  },
  {
   "cell_type": "code",
   "execution_count": 65,
   "metadata": {},
   "outputs": [
    {
     "name": "stdout",
     "output_type": "stream",
     "text": [
      "Homo\n"
     ]
    }
   ],
   "source": [
    "scientific_name = \"Homo sapiens\"\n",
    "genus,species = scientific_name.split()\n",
    "print(genus)"
   ]
  },
  {
   "cell_type": "markdown",
   "metadata": {},
   "source": [
    "#### Numbers represented as strings can produce `TypeError`s when used in math operations\n",
    "\n",
    "A more subtle variation of this type of error comes when dealing with strings that *represent* numbers. However, in python the string `\"10\"` is not the same as the integer `10`. If you try to use the string as a number without converting it to an `int` (integer) or `float` (decimal number) first, you will get a `TypeError`:"
   ]
  },
  {
   "cell_type": "code",
   "execution_count": 70,
   "metadata": {},
   "outputs": [
    {
     "ename": "TypeError",
     "evalue": "unsupported operand type(s) for /: 'str' and 'float'",
     "output_type": "error",
     "traceback": [
      "\u001b[0;31m---------------------------------------------------------------------------\u001b[0m",
      "\u001b[0;31mTypeError\u001b[0m                                 Traceback (most recent call last)",
      "\u001b[0;32m<ipython-input-70-0de8904432fc>\u001b[0m in \u001b[0;36m<module>\u001b[0;34m\u001b[0m\n\u001b[1;32m      2\u001b[0m \u001b[0my\u001b[0m \u001b[0;34m=\u001b[0m \u001b[0;34m\"5.6\"\u001b[0m\u001b[0;34m\u001b[0m\u001b[0;34m\u001b[0m\u001b[0m\n\u001b[1;32m      3\u001b[0m \u001b[0;34m\u001b[0m\u001b[0m\n\u001b[0;32m----> 4\u001b[0;31m \u001b[0mz\u001b[0m \u001b[0;34m=\u001b[0m \u001b[0;34m(\u001b[0m\u001b[0mx\u001b[0m \u001b[0;34m+\u001b[0m \u001b[0my\u001b[0m\u001b[0;34m)\u001b[0m\u001b[0;34m/\u001b[0m\u001b[0;36m2.0\u001b[0m\u001b[0;34m\u001b[0m\u001b[0;34m\u001b[0m\u001b[0m\n\u001b[0m",
      "\u001b[0;31mTypeError\u001b[0m: unsupported operand type(s) for /: 'str' and 'float'"
     ]
    }
   ],
   "source": [
    "x = \"10.0\"\n",
    "y = \"5.6\"\n",
    "\n",
    "z = (x + y)/2.0"
   ]
  },
  {
   "cell_type": "markdown",
   "metadata": {},
   "source": [
    "We can fix this error by converting both x and y into numbers before trying to use them in mathematical operations."
   ]
  },
  {
   "cell_type": "code",
   "execution_count": 73,
   "metadata": {},
   "outputs": [],
   "source": [
    "x = float(\"10.0\")\n",
    "y = float(\"5.6\")\n",
    "\n",
    "z = (x + y)/2.0"
   ]
  },
  {
   "cell_type": "markdown",
   "metadata": {},
   "source": [
    "Obviously it would be silly to do all this since we could just define x and y as floats initially (e.g. `x = 10.0`). The place this kind of TypeError comes up commonly in Bioinfomatics is if you are processing a results file (maybe from an external program) and forget to convert the text into numbers. Imaginet that the `result_line` variable holds the raw text output from one line of a results file generated by another program.\n",
    "\n",
    "It would be easy (at least for me!) to forget to convert the x and y results into numbers before using them in the final equation. If we did, we would get a `TypeError`:"
   ]
  },
  {
   "cell_type": "code",
   "execution_count": 77,
   "metadata": {},
   "outputs": [
    {
     "ename": "TypeError",
     "evalue": "unsupported operand type(s) for /: 'str' and 'float'",
     "output_type": "error",
     "traceback": [
      "\u001b[0;31m---------------------------------------------------------------------------\u001b[0m",
      "\u001b[0;31mTypeError\u001b[0m                                 Traceback (most recent call last)",
      "\u001b[0;32m<ipython-input-77-907a4465717e>\u001b[0m in \u001b[0;36m<module>\u001b[0;34m\u001b[0m\n\u001b[1;32m      1\u001b[0m \u001b[0mresult_line\u001b[0m \u001b[0;34m=\u001b[0m \u001b[0;34m\"10.0,5.6\"\u001b[0m\u001b[0;34m\u001b[0m\u001b[0;34m\u001b[0m\u001b[0m\n\u001b[1;32m      2\u001b[0m \u001b[0mx\u001b[0m\u001b[0;34m,\u001b[0m\u001b[0my\u001b[0m \u001b[0;34m=\u001b[0m \u001b[0mresult_line\u001b[0m\u001b[0;34m.\u001b[0m\u001b[0msplit\u001b[0m\u001b[0;34m(\u001b[0m\u001b[0;34m\",\"\u001b[0m\u001b[0;34m)\u001b[0m\u001b[0;34m\u001b[0m\u001b[0;34m\u001b[0m\u001b[0m\n\u001b[0;32m----> 3\u001b[0;31m \u001b[0maveage_mass\u001b[0m \u001b[0;34m=\u001b[0m \u001b[0;34m(\u001b[0m\u001b[0mx\u001b[0m \u001b[0;34m+\u001b[0m \u001b[0my\u001b[0m\u001b[0;34m)\u001b[0m\u001b[0;34m/\u001b[0m\u001b[0;36m2.0\u001b[0m\u001b[0;34m\u001b[0m\u001b[0;34m\u001b[0m\u001b[0m\n\u001b[0m\u001b[1;32m      4\u001b[0m \u001b[0mprint\u001b[0m\u001b[0;34m(\u001b[0m\u001b[0;34mf\"Average mass: {average_mass}\"\u001b[0m\u001b[0;34m)\u001b[0m\u001b[0;34m\u001b[0m\u001b[0;34m\u001b[0m\u001b[0m\n",
      "\u001b[0;31mTypeError\u001b[0m: unsupported operand type(s) for /: 'str' and 'float'"
     ]
    }
   ],
   "source": [
    "result_line = \"10.0,5.6\"\n",
    "x,y = result_line.split(\",\")\n",
    "aveage_mass = (x + y)/2.0\n",
    "print(f\"Average mass: {average_mass}\")"
   ]
  },
  {
   "cell_type": "markdown",
   "metadata": {},
   "source": [
    "Luckily, the solution is simple - we just call float() on our two values before using them in math, just as we did in the previous example:"
   ]
  },
  {
   "cell_type": "code",
   "execution_count": 79,
   "metadata": {},
   "outputs": [
    {
     "name": "stdout",
     "output_type": "stream",
     "text": [
      "Average mass: 7.8\n"
     ]
    }
   ],
   "source": [
    "result_line = \"10.0,5.6\"\n",
    "x,y = result_line.split(\",\")\n",
    "average_mass = (float(x) + float(y))/2.0\n",
    "print(f\"Average mass: {average_mass}\")"
   ]
  },
  {
   "cell_type": "markdown",
   "metadata": {},
   "source": [
    "### `ValueError`\n",
    "\n",
    "`ValueError`s are similar to `TypeError`s, but indicate that the operation you are trying to do with a particular variable isn't one that can be done for the *specific values of that variable*. Another way of saying this is that you've got the wrong content in your variable for what you want to do. An example would be trying to saw with a hammer. While it is possible to have a construction tool that you could saw with (hand saw, jigsaw, etc), a hammer just isn't the right construction tool for the particular operation of sawing.\n",
    "\n",
    "#### Trying to convert non-numerical text to numbers produces a ValueError\n",
    "\n",
    "If you try to convert the string \"Pangolin\" into an integer, you would get a `ValueError`. You would get a `ValueError` instead of a `TypeError` because although *some* strings can be converted into numbers (e.g. \"10\"), this *particular* piece of text can't be, because there is no sensible number that corresponds to a Pangolin. "
   ]
  },
  {
   "cell_type": "code",
   "execution_count": 81,
   "metadata": {},
   "outputs": [
    {
     "ename": "ValueError",
     "evalue": "invalid literal for int() with base 10: 'one hundred grams'",
     "output_type": "error",
     "traceback": [
      "\u001b[0;31m---------------------------------------------------------------------------\u001b[0m",
      "\u001b[0;31mValueError\u001b[0m                                Traceback (most recent call last)",
      "\u001b[0;32m<ipython-input-81-4c67af97941c>\u001b[0m in \u001b[0;36m<module>\u001b[0;34m\u001b[0m\n\u001b[1;32m      1\u001b[0m \u001b[0mmass\u001b[0m \u001b[0;34m=\u001b[0m \u001b[0;34m\"one hundred grams\"\u001b[0m\u001b[0;34m\u001b[0m\u001b[0;34m\u001b[0m\u001b[0m\n\u001b[0;32m----> 2\u001b[0;31m \u001b[0mmass\u001b[0m \u001b[0;34m=\u001b[0m \u001b[0mint\u001b[0m\u001b[0;34m(\u001b[0m\u001b[0mmass\u001b[0m\u001b[0;34m)\u001b[0m\u001b[0;34m\u001b[0m\u001b[0;34m\u001b[0m\u001b[0m\n\u001b[0m",
      "\u001b[0;31mValueError\u001b[0m: invalid literal for int() with base 10: 'one hundred grams'"
     ]
    }
   ],
   "source": [
    "mass = \"one hundred grams\"\n",
    "mass = int(mass)"
   ]
  },
  {
   "cell_type": "markdown",
   "metadata": {},
   "source": [
    "We can fix this by only converting text with numerals in it into numbers"
   ]
  },
  {
   "cell_type": "code",
   "execution_count": 82,
   "metadata": {},
   "outputs": [],
   "source": [
    "mass = \"100\"\n",
    "mass = int(mass)"
   ]
  },
  {
   "cell_type": "markdown",
   "metadata": {},
   "source": [
    "#### Trying to 'unpack' single items produces a ValueError\n",
    "\n",
    "If a python variable contains a known number of items, you can unpack it using the syntax:\n",
    "\n",
    "`data = (14,2)\n",
    " x,y = data\n",
    "`\n",
    "\n",
    "However, if you try to do this with the wrong number of variables, you get a ValueError"
   ]
  },
  {
   "cell_type": "code",
   "execution_count": 170,
   "metadata": {},
   "outputs": [
    {
     "ename": "ValueError",
     "evalue": "too many values to unpack (expected 2)",
     "output_type": "error",
     "traceback": [
      "\u001b[0;31m---------------------------------------------------------------------------\u001b[0m",
      "\u001b[0;31mValueError\u001b[0m                                Traceback (most recent call last)",
      "\u001b[0;32m<ipython-input-170-63075a930008>\u001b[0m in \u001b[0;36m<module>\u001b[0;34m\u001b[0m\n\u001b[1;32m      1\u001b[0m \u001b[0;34m\u001b[0m\u001b[0m\n\u001b[1;32m      2\u001b[0m \u001b[0mscientific_name\u001b[0m \u001b[0;34m=\u001b[0m \u001b[0;34m\"Escherichia coli\"\u001b[0m\u001b[0;34m\u001b[0m\u001b[0;34m\u001b[0m\u001b[0m\n\u001b[0;32m----> 3\u001b[0;31m \u001b[0mgenus\u001b[0m\u001b[0;34m,\u001b[0m\u001b[0mspecies\u001b[0m \u001b[0;34m=\u001b[0m \u001b[0mscientific_name\u001b[0m\u001b[0;34m\u001b[0m\u001b[0;34m\u001b[0m\u001b[0m\n\u001b[0m",
      "\u001b[0;31mValueError\u001b[0m: too many values to unpack (expected 2)"
     ]
    }
   ],
   "source": [
    " \n",
    "scientific_name = \"Escherichia coli\"\n",
    "genus,species = scientific_name"
   ]
  },
  {
   "cell_type": "markdown",
   "metadata": {},
   "source": [
    "You can fix this by ensuring you have the right number of items. For example, in the above example, it looks like we are trying to break the scientific name for *E. coli* up into a genus and species name. We could use the split method to do this, and then assign the items of the list produced by splitting on white space to a genus and species variable:"
   ]
  },
  {
   "cell_type": "code",
   "execution_count": 171,
   "metadata": {},
   "outputs": [],
   "source": [
    " scientific_name = \"Escherichia coli\"\n",
    " genus,species = scientific_name.split()"
   ]
  },
  {
   "cell_type": "markdown",
   "metadata": {},
   "source": [
    "A related issue is if you write code expecting your input data to only look a certain way (e.g. a binomial species name),but your actual data looks a bit different. For example, maybe some scientific names have extra modifiers to designate the strain of bacteria. These types of rare but valid data - which frequently break code - are called [corner cases](https://en.wikipedia.org/wiki/Corner_case).\n",
    "\n",
    "In such cases you have to consider what you are trying to accomplish, and see if you can find a way to write the code so that these corner cases are handled correctly. For instance, if every scientific name had a genus and species name, but some had extra strain info, we could resolve the issue by explicitly taking only the first two fields resulting from splitting the scientific name:"
   ]
  },
  {
   "cell_type": "code",
   "execution_count": 178,
   "metadata": {},
   "outputs": [],
   "source": [
    "scientific_name = \"Escherichia coli O157:H7\"\n",
    "fields = scientific_name.split(maxsplit = 2)\n",
    "genus = fields[0]\n",
    "species = fields[1]"
   ]
  },
  {
   "cell_type": "markdown",
   "metadata": {},
   "source": [
    "### **`AttributeError`**\n",
    "\n",
    "Objects in python have various attributes associated with them that can be accessed using the name of an object, a period `.` and then the name of the attribute. For example, when we want to convert a string to uppercase, we access the string's `upper` method as an attribute, and call it:"
   ]
  },
  {
   "cell_type": "code",
   "execution_count": 99,
   "metadata": {},
   "outputs": [
    {
     "name": "stdout",
     "output_type": "stream",
     "text": [
      "AUCGCUGCUAGCUGGGCUAGCUAGC\n"
     ]
    }
   ],
   "source": [
    "rna_seq = \"aucgcugcuagcugggcuagcuagc\"\n",
    "rna_seq = rna_seq.upper()\n",
    "print(rna_seq)"
   ]
  },
  {
   "cell_type": "markdown",
   "metadata": {},
   "source": [
    "What happens if you ask for an attribute that doesn't exist? In such cases an `AttributeError` is raised."
   ]
  },
  {
   "cell_type": "code",
   "execution_count": 100,
   "metadata": {},
   "outputs": [
    {
     "ename": "AttributeError",
     "evalue": "'str' object has no attribute 'tongue'",
     "output_type": "error",
     "traceback": [
      "\u001b[0;31m---------------------------------------------------------------------------\u001b[0m",
      "\u001b[0;31mAttributeError\u001b[0m                            Traceback (most recent call last)",
      "\u001b[0;32m<ipython-input-100-3da0bf3cd629>\u001b[0m in \u001b[0;36m<module>\u001b[0;34m\u001b[0m\n\u001b[0;32m----> 1\u001b[0;31m \u001b[0mrna_seq\u001b[0m\u001b[0;34m.\u001b[0m\u001b[0mtongue\u001b[0m\u001b[0;34m\u001b[0m\u001b[0;34m\u001b[0m\u001b[0m\n\u001b[0m",
      "\u001b[0;31mAttributeError\u001b[0m: 'str' object has no attribute 'tongue'"
     ]
    }
   ],
   "source": [
    "rna_seq.tongue"
   ]
  },
  {
   "cell_type": "markdown",
   "metadata": {},
   "source": [
    "The above example is silly, but AttributeErrors are fairly common. The two most common reasons for getting them are that you mispelled the attribute name (e.g. try `rna_seq = rna_seq.uppper()`) or that the object whose attribute you are trying to access is of a different type than you expected. "
   ]
  },
  {
   "cell_type": "code",
   "execution_count": 106,
   "metadata": {},
   "outputs": [
    {
     "ename": "AttributeError",
     "evalue": "'str' object has no attribute 'is_integer'",
     "output_type": "error",
     "traceback": [
      "\u001b[0;31m---------------------------------------------------------------------------\u001b[0m",
      "\u001b[0;31mAttributeError\u001b[0m                            Traceback (most recent call last)",
      "\u001b[0;32m<ipython-input-106-3275c395ba30>\u001b[0m in \u001b[0;36m<module>\u001b[0;34m\u001b[0m\n\u001b[1;32m      1\u001b[0m \u001b[0mtemp\u001b[0m \u001b[0;34m=\u001b[0m \u001b[0;34m\"-10.0\"\u001b[0m\u001b[0;34m\u001b[0m\u001b[0;34m\u001b[0m\u001b[0m\n\u001b[0;32m----> 2\u001b[0;31m \u001b[0mtemp\u001b[0m\u001b[0;34m.\u001b[0m\u001b[0mis_integer\u001b[0m\u001b[0;34m(\u001b[0m\u001b[0;34m)\u001b[0m\u001b[0;34m\u001b[0m\u001b[0;34m\u001b[0m\u001b[0m\n\u001b[0m",
      "\u001b[0;31mAttributeError\u001b[0m: 'str' object has no attribute 'is_integer'"
     ]
    }
   ],
   "source": [
    "temp = \"-10.0\"\n",
    "temp.is_integer()"
   ]
  },
  {
   "cell_type": "markdown",
   "metadata": {},
   "source": [
    "You can solve such issues by either modifying the object to the type you expected, or by changing which attribute you are trying to access."
   ]
  },
  {
   "cell_type": "code",
   "execution_count": 105,
   "metadata": {},
   "outputs": [
    {
     "data": {
      "text/plain": [
       "True"
      ]
     },
     "execution_count": 105,
     "metadata": {},
     "output_type": "execute_result"
    }
   ],
   "source": [
    "temp = \"-10.0\"\n",
    "temp = float(temp)\n",
    "temp.is_integer()"
   ]
  },
  {
   "cell_type": "markdown",
   "metadata": {},
   "source": [
    "### **`ZeroDivisionError`**\n",
    "\n",
    "The result of dividing a number by 0 is undefined. As you might guess, a `ZeroDivisionError` arises if you try to divide a number by 0. Most often you didn't do this intentionally - instead you somewhere divided one variable by another, and in a particular set of results, the number in the denominator happened to be 0.\n",
    "\n",
    "Here's an example:\n"
   ]
  },
  {
   "cell_type": "code",
   "execution_count": 115,
   "metadata": {},
   "outputs": [
    {
     "name": "stdout",
     "output_type": "stream",
     "text": [
      "The purine-pyrimidine ratio of sequence AAATCG is 2.0\n",
      "The purine-pyrimidine ratio of sequence CCCGTA is 0.5\n",
      "The purine-pyrimidine ratio of sequence TTTTTAA is 0.4\n"
     ]
    },
    {
     "ename": "ZeroDivisionError",
     "evalue": "division by zero",
     "output_type": "error",
     "traceback": [
      "\u001b[0;31m---------------------------------------------------------------------------\u001b[0m",
      "\u001b[0;31mZeroDivisionError\u001b[0m                         Traceback (most recent call last)",
      "\u001b[0;32m<ipython-input-115-fea96b6baec5>\u001b[0m in \u001b[0;36m<module>\u001b[0;34m\u001b[0m\n\u001b[1;32m      3\u001b[0m     \u001b[0mpurine_count\u001b[0m \u001b[0;34m=\u001b[0m \u001b[0mseq\u001b[0m\u001b[0;34m.\u001b[0m\u001b[0mcount\u001b[0m\u001b[0;34m(\u001b[0m\u001b[0;34m\"A\"\u001b[0m\u001b[0;34m)\u001b[0m \u001b[0;34m+\u001b[0m \u001b[0mseq\u001b[0m\u001b[0;34m.\u001b[0m\u001b[0mcount\u001b[0m\u001b[0;34m(\u001b[0m\u001b[0;34m\"G\"\u001b[0m\u001b[0;34m)\u001b[0m\u001b[0;34m\u001b[0m\u001b[0;34m\u001b[0m\u001b[0m\n\u001b[1;32m      4\u001b[0m     \u001b[0mpyrimidine_count\u001b[0m \u001b[0;34m=\u001b[0m \u001b[0mseq\u001b[0m\u001b[0;34m.\u001b[0m\u001b[0mcount\u001b[0m\u001b[0;34m(\u001b[0m\u001b[0;34m\"C\"\u001b[0m\u001b[0;34m)\u001b[0m\u001b[0;34m+\u001b[0m\u001b[0mseq\u001b[0m\u001b[0;34m.\u001b[0m\u001b[0mcount\u001b[0m\u001b[0;34m(\u001b[0m\u001b[0;34m\"T\"\u001b[0m\u001b[0;34m)\u001b[0m\u001b[0;34m\u001b[0m\u001b[0;34m\u001b[0m\u001b[0m\n\u001b[0;32m----> 5\u001b[0;31m     \u001b[0mpurine_pyrimidine_ratio\u001b[0m \u001b[0;34m=\u001b[0m \u001b[0mpurine_count\u001b[0m\u001b[0;34m/\u001b[0m\u001b[0mpyrimidine_count\u001b[0m\u001b[0;34m\u001b[0m\u001b[0;34m\u001b[0m\u001b[0m\n\u001b[0m\u001b[1;32m      6\u001b[0m     \u001b[0mprint\u001b[0m\u001b[0;34m(\u001b[0m\u001b[0;34mf\"The purine-pyrimidine ratio of sequence {seq} is {purine_pyrimidine_ratio}\"\u001b[0m\u001b[0;34m)\u001b[0m\u001b[0;34m\u001b[0m\u001b[0;34m\u001b[0m\u001b[0m\n",
      "\u001b[0;31mZeroDivisionError\u001b[0m: division by zero"
     ]
    }
   ],
   "source": [
    "sequences = ['AAATCG','CCCGTA','TTTTTAA','AAGGAGAGAGGGGA']\n",
    "for seq in sequences:\n",
    "    purine_count = seq.count(\"A\") + seq.count(\"G\")\n",
    "    pyrimidine_count = seq.count(\"C\")+seq.count(\"T\")\n",
    "    purine_pyrimidine_ratio = purine_count/pyrimidine_count\n",
    "    print(f\"The purine-pyrimidine ratio of sequence {seq} is {purine_pyrimidine_ratio}\")"
   ]
  },
  {
   "cell_type": "markdown",
   "metadata": {},
   "source": [
    "Depending on the purpose, there are several ways to handle such zero division errors. Which is best depends on the particular application. In this case, possible solutions include raising a more specific error message for users, skipping sequences for which a purine-pyrimidine ratio can't be calculated, or adding a small 'pseudocount' (typically 1) to the count of both purines and pyrimidines. The last option is typically only used if the sequences you are studying are quite long, such that the pseudocount doesn't strongly influence the results in a typical case."
   ]
  },
  {
   "cell_type": "code",
   "execution_count": 117,
   "metadata": {},
   "outputs": [
    {
     "name": "stdout",
     "output_type": "stream",
     "text": [
      "The purine-pyrimidine ratio of sequence AAATCG is 1.6666666666666667\n",
      "The purine-pyrimidine ratio of sequence CCCGTA is 0.6\n",
      "The purine-pyrimidine ratio of sequence TTTTTAA is 0.5\n",
      "The purine-pyrimidine ratio of sequence AAGGAGAGAGGGGA is 15.0\n"
     ]
    }
   ],
   "source": [
    "sequences = ['AAATCG','CCCGTA','TTTTTAA','AAGGAGAGAGGGGA']\n",
    "pseudocount = 1\n",
    "for seq in sequences:\n",
    "    purine_count = seq.count(\"A\") + seq.count(\"G\") + pseudocount\n",
    "    pyrimidine_count = seq.count(\"C\")+seq.count(\"T\") + pseudocount\n",
    "    purine_pyrimidine_ratio = purine_count/pyrimidine_count\n",
    "    print(f\"The purine-pyrimidine ratio of sequence {seq} is {purine_pyrimidine_ratio}\")"
   ]
  },
  {
   "cell_type": "markdown",
   "metadata": {},
   "source": [
    "## Exercises\n",
    "\n",
    "For each of the following questions, adjust the following code so it accomplishes it's intended purpose (as noted in the comments) but no longer produces an error. You may have to use your judgement about what that purpose is, so feel free to solve the problem in a way that makes the most practical sense to you, recognizing that there is typically more than one solution."
   ]
  },
  {
   "cell_type": "markdown",
   "metadata": {},
   "source": [
    "### Exercise 1  - Debug code for calculating GC content\n",
    "\n",
    "Debug the following code for calculating GC content:"
   ]
  },
  {
   "cell_type": "code",
   "execution_count": 119,
   "metadata": {},
   "outputs": [
    {
     "ename": "NameError",
     "evalue": "name 'G' is not defined",
     "output_type": "error",
     "traceback": [
      "\u001b[0;31m---------------------------------------------------------------------------\u001b[0m",
      "\u001b[0;31mNameError\u001b[0m                                 Traceback (most recent call last)",
      "\u001b[0;32m<ipython-input-119-c48516989ebf>\u001b[0m in \u001b[0;36m<module>\u001b[0;34m\u001b[0m\n\u001b[1;32m      2\u001b[0m \u001b[0;34m\u001b[0m\u001b[0m\n\u001b[1;32m      3\u001b[0m \u001b[0mseq\u001b[0m \u001b[0;34m=\u001b[0m \u001b[0;34m\"ATATGCTACTACTCGGCTACG\"\u001b[0m\u001b[0;34m\u001b[0m\u001b[0;34m\u001b[0m\u001b[0m\n\u001b[0;32m----> 4\u001b[0;31m \u001b[0mgc_content\u001b[0m \u001b[0;34m=\u001b[0m \u001b[0mseq\u001b[0m\u001b[0;34m.\u001b[0m\u001b[0mcount\u001b[0m\u001b[0;34m(\u001b[0m\u001b[0mG\u001b[0m\u001b[0;34m)\u001b[0m \u001b[0;34m+\u001b[0m \u001b[0mseq\u001b[0m\u001b[0;34m.\u001b[0m\u001b[0mcount\u001b[0m\u001b[0;34m(\u001b[0m\u001b[0mC\u001b[0m\u001b[0;34m)\u001b[0m\u001b[0;34m/\u001b[0m\u001b[0mlen\u001b[0m\u001b[0;34m(\u001b[0m\u001b[0mseq\u001b[0m\u001b[0;34m)\u001b[0m\u001b[0;34m\u001b[0m\u001b[0;34m\u001b[0m\u001b[0m\n\u001b[0m",
      "\u001b[0;31mNameError\u001b[0m: name 'G' is not defined"
     ]
    }
   ],
   "source": [
    "# Calculate the frequency of G & C nucleotides in a sequence\n",
    "\n",
    "seq = \"ATATGCTACTACTCGGCTACG\"\n",
    "gc_content = seq.count(G) + seq.count(C)/len(seq)"
   ]
  },
  {
   "cell_type": "markdown",
   "metadata": {},
   "source": [
    "### Exercise 2 - Debug a random bird generator\n",
    "\n",
    "Debug the following code for generating random bird common names. "
   ]
  },
  {
   "cell_type": "code",
   "execution_count": 147,
   "metadata": {},
   "outputs": [
    {
     "ename": "SyntaxError",
     "evalue": "invalid syntax (<ipython-input-147-696f7c200593>, line 13)",
     "output_type": "error",
     "traceback": [
      "\u001b[0;36m  File \u001b[0;32m\"<ipython-input-147-696f7c200593>\"\u001b[0;36m, line \u001b[0;32m13\u001b[0m\n\u001b[0;31m    for i in range(n_birds_to_generate)\u001b[0m\n\u001b[0m                                       ^\u001b[0m\n\u001b[0;31mSyntaxError\u001b[0m\u001b[0;31m:\u001b[0m invalid syntax\n"
     ]
    }
   ],
   "source": [
    "from random import choice\n",
    "n_birds_to_generate = 10\n",
    "\n",
    "descriptors = [\"Emperor\",\"Red-breasted\",\"Warbling\",\"Vampire\",\"Night\",\\\n",
    "               \"Sea\",\"Greater\",\"Pond\",\"Jungle\",\"Barn\",\"Drab\",\"Lesser\",\"Spotted\",\\\n",
    "               \"Northern\",\"Southern\",\"Long-beaked\",\"Crested\",\"Fairy\",\"Bald\"]\n",
    "\n",
    "bird_types = [\"Falcon\",\"Merganser\",\"Owl\",\"Eagle\",\"Hawk\",\"Penguin\",\\\n",
    "             \"Dodo\",\"Gull\",\"Warbler\",\"Fowl\",\"Goose\",\"Hummingbird\",\"Snowcock\"]\n",
    "\n",
    "random_birds = []\n",
    "\n",
    "for i in range(n_birds_to_generate)\n",
    "    descriptor = choice(descriptors)\n",
    "\n",
    "    bird_type = choice(bird_types)\n",
    "\n",
    "    random_bird = f\"{descriptor} {bird_type}\"\n",
    "    random_birds.append(random_bird)\n",
    "    "
   ]
  },
  {
   "cell_type": "markdown",
   "metadata": {},
   "source": [
    "### Exercise 3 Debug code for simulating Mendelian Inheritance\n",
    "\n",
    "Debug the following code. Note that there is more than one mistake with the code that you will need to fix."
   ]
  },
  {
   "cell_type": "code",
   "execution_count": 181,
   "metadata": {},
   "outputs": [
    {
     "ename": "SyntaxError",
     "evalue": "invalid syntax (<ipython-input-181-eb0efb489b6d>, line 15)",
     "output_type": "error",
     "traceback": [
      "\u001b[0;36m  File \u001b[0;32m\"<ipython-input-181-eb0efb489b6d>\"\u001b[0;36m, line \u001b[0;32m15\u001b[0m\n\u001b[0;31m    sperm_allele = choice(paternal_alleles)\u001b[0m\n\u001b[0m               ^\u001b[0m\n\u001b[0;31mSyntaxError\u001b[0m\u001b[0;31m:\u001b[0m invalid syntax\n"
     ]
    }
   ],
   "source": [
    "#This code simules Mendelian inheritance\n",
    "#Each parent has two alleles or genetic variants: A and a\n",
    "\n",
    "#Each gamete (sperm or egg) gets one random allele from\n",
    "#the parent that produced that gamete\n",
    "\n",
    "#The offspring genotype is a combination of these\n",
    "\n",
    "from random import choice\n",
    "\n",
    "maternal_alleles = [\"A\",\"a\"]\n",
    "paternal_alleles = [\"A\",\"a\"]\n",
    "\n",
    "egg_allele = choice(maternal_alleles\n",
    "sperm_allele = choice(paternal_alleles)\n",
    "\n",
    "offspring_genotype = sorted(egg_allele + sperm_alele)\n",
    "print(f\"The genotype of the offspring is {offspring_genotype}\")"
   ]
  },
  {
   "cell_type": "markdown",
   "metadata": {},
   "source": [
    "### Exercise 4 - Debug broken code for outputting genome analysis results\n",
    "\n",
    "Debug the following code that merges the results of a genomic analysis into a tab-delimited output line:"
   ]
  },
  {
   "cell_type": "code",
   "execution_count": 146,
   "metadata": {},
   "outputs": [
    {
     "name": "stdout",
     "output_type": "stream",
     "text": [
      "Genus\tSpecies\tStrain\tChromosome Type\tGenome Length\tCoding Regions\tGC content\n",
      "\n"
     ]
    },
    {
     "ename": "TypeError",
     "evalue": "sequence item 4: expected str instance, int found",
     "output_type": "error",
     "traceback": [
      "\u001b[0;31m---------------------------------------------------------------------------\u001b[0m",
      "\u001b[0;31mTypeError\u001b[0m                                 Traceback (most recent call last)",
      "\u001b[0;32m<ipython-input-146-5be44c67dd27>\u001b[0m in \u001b[0;36m<module>\u001b[0;34m\u001b[0m\n\u001b[1;32m     23\u001b[0m \u001b[0;34m\u001b[0m\u001b[0m\n\u001b[1;32m     24\u001b[0m \u001b[0mresult_fields\u001b[0m \u001b[0;34m=\u001b[0m \u001b[0;34m[\u001b[0m\u001b[0mgenus\u001b[0m\u001b[0;34m,\u001b[0m\u001b[0mspecies\u001b[0m\u001b[0;34m,\u001b[0m\u001b[0mstrain_id\u001b[0m\u001b[0;34m,\u001b[0m\u001b[0mchromosome_type\u001b[0m\u001b[0;34m,\u001b[0m\u001b[0mgenome_length_nt\u001b[0m\u001b[0;34m,\u001b[0m\u001b[0mcoding_regions\u001b[0m\u001b[0;34m,\u001b[0m\u001b[0mgc_content\u001b[0m\u001b[0;34m]\u001b[0m\u001b[0;34m\u001b[0m\u001b[0;34m\u001b[0m\u001b[0m\n\u001b[0;32m---> 25\u001b[0;31m \u001b[0mresult_line\u001b[0m \u001b[0;34m=\u001b[0m \u001b[0;34m\"\\t\"\u001b[0m\u001b[0;34m.\u001b[0m\u001b[0mjoin\u001b[0m\u001b[0;34m(\u001b[0m\u001b[0mresult_fields\u001b[0m\u001b[0;34m)\u001b[0m \u001b[0;34m+\u001b[0m \u001b[0;34m\"\\n\"\u001b[0m\u001b[0;34m\u001b[0m\u001b[0;34m\u001b[0m\u001b[0m\n\u001b[0m\u001b[1;32m     26\u001b[0m \u001b[0mprint\u001b[0m\u001b[0;34m(\u001b[0m\u001b[0mresult_line\u001b[0m\u001b[0;34m)\u001b[0m\u001b[0;34m\u001b[0m\u001b[0;34m\u001b[0m\u001b[0m\n\u001b[1;32m     27\u001b[0m \u001b[0;34m\u001b[0m\u001b[0m\n",
      "\u001b[0;31mTypeError\u001b[0m: sequence item 4: expected str instance, int found"
     ]
    }
   ],
   "source": [
    "#Imagine we'd calculated several parameters for the genome\n",
    "header_fields = [\"Genus\",\"Species\",\"Strain\",\"Chromosome Type\",\"Genome Length\",\"Coding Regions\",\"GC content\"]\n",
    "header_line = \"\\t\".join(header_fields)+\"\\n\"\n",
    "print(header_line)\n",
    "\n",
    "\n",
    "#Most commonly, this type of code would be inside a for loop\n",
    "#where we were analyzing many genomes, and generating one line of \n",
    "#results per genome analyzed.\n",
    "#(here I just hard-code the results for simplicity). \n",
    "\n",
    "gc_content = 57.0\n",
    "genome_length_nt = 4195195\n",
    "chromosome_type = \"circular\"\n",
    "coding_regions = 4276\n",
    "\n",
    "#Get the genus name and species name from the full strain id\n",
    "strain_id = \"Bacillus subtilis SZMC 6179J\"\n",
    "genus,species,strain_id_part1,strain_id_part2 = strain_id.split()\n",
    "\n",
    "result_fields = [genus,species,strain_id,chromosome_type,genome_length_nt,coding_regions,gc_content]\n",
    "result_line = \"\\t\".join(result_fields) + \"\\n\"\n",
    "print(result_line)\n",
    "\n",
    "#We would go on to open a results file\n",
    "#and write the results to it."
   ]
  },
  {
   "cell_type": "markdown",
   "metadata": {},
   "source": [
    "### Exercise 5 - Debug code for mapping scientific names into common taxon names\n",
    "\n",
    "**Hint:** there are 3 mistakes with the code that you'll need to fix. The first two are straightforward. Fix them first, and you will encounter the 3rd bug, which is a bit more subtle. \n"
   ]
  },
  {
   "cell_type": "code",
   "execution_count": 179,
   "metadata": {},
   "outputs": [
    {
     "ename": "SyntaxError",
     "evalue": "invalid syntax (<ipython-input-179-7176d3ae0171>, line 3)",
     "output_type": "error",
     "traceback": [
      "\u001b[0;36m  File \u001b[0;32m\"<ipython-input-179-7176d3ae0171>\"\u001b[0;36m, line \u001b[0;32m3\u001b[0m\n\u001b[0;31m    species = [\"Homo sapiens\",\"Gallus gallus\",\"Bacillus thuringiensis\",,\\\u001b[0m\n\u001b[0m                                                                       ^\u001b[0m\n\u001b[0;31mSyntaxError\u001b[0m\u001b[0;31m:\u001b[0m invalid syntax\n"
     ]
    }
   ],
   "source": [
    "\n",
    "#Look up an informal, non-scientific common name for each species\n",
    "species = [\"Homo sapiens\",\"Gallus gallus\",\"Bacillus thuringiensis\",,\\\n",
    "           \"Bacillus subtilis SZMC 6179J\",\"Porites asteroides\",\"Acropora palmata\"]\n",
    "\n",
    "common_name_map = {\"Homo\":\"Mammal\",\"Gallus\",\"Bird\",\"Bacillus\":\"Bacterium\",\\\n",
    "                   \"Porites\";\"Stony coral\",\"Acroproa\":\"Stony coral\"}\n",
    "\n",
    "for binomial_name in species:\n",
    "    genus,species = binomial_name.split()\n",
    "    common_taxon_name = common_name_map[genus]\n",
    "    print(f\"{binomial_name} is a {common_taxon_name}\")\n",
    "    "
   ]
  },
  {
   "cell_type": "markdown",
   "metadata": {},
   "source": [
    "## Further Reading\n",
    "\n",
    "The PyLearn project has a useful [Error Encyclopedia](https://cs.carleton.edu/cs_comps/1213/pylearn/final_results/encyclopedia/) with detailed descriptions of common errors."
   ]
  },
  {
   "cell_type": "markdown",
   "metadata": {},
   "source": [
    "[Top of Page](#Learning-From-Errors-in-Python)  \n",
    "[NameError](#NameError)  \n",
    "[SyntaxError](#SyntaxError)  \n",
    "[TypeError](#TypeError)  \n",
    "[ValueError](#ValueError)  \n",
    "[IndexError](#IndexError)  \n",
    "[AttributeError](#AttributeError)   \n",
    "[ZeroDivisionError](#ZeroDivisionError)   \n",
    "[Exercises](#Exercises)  \n",
    "[Further Reading](#Further-Reading)  \n"
   ]
  },
  {
   "cell_type": "markdown",
   "metadata": {},
   "source": [
    "# Feedback and Reading Responses\n",
    "\n",
    "You can submit feedback and reading responses to the chapter [here](https://docs.google.com/forms/d/e/1FAIpQLSeUQPI_JbyKcX1juAFLt5z1CLzC2vTqaCYySUAYCNElNwZqqQ/viewform?usp=pp_url&entry.2118603224=Error+Messages+in+Python)"
   ]
  }
 ],
 "metadata": {
  "kernelspec": {
   "display_name": "Python 3",
   "language": "python",
   "name": "python3"
  },
  "language_info": {
   "codemirror_mode": {
    "name": "ipython",
    "version": 3
   },
   "file_extension": ".py",
   "mimetype": "text/x-python",
   "name": "python",
   "nbconvert_exporter": "python",
   "pygments_lexer": "ipython3",
   "version": "3.7.2"
  }
 },
 "nbformat": 4,
 "nbformat_minor": 2
}
