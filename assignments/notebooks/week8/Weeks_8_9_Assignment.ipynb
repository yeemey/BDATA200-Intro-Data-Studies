{
 "cells": [
  {
   "cell_type": "markdown",
   "metadata": {
    "id": "DqWD2aDDY6BN"
   },
   "source": [
    "# Data Exploration with Python\n",
    "\n",
    "(Review Reading Assignments: Analyzing Tabular Omics Data using Pandas DataFrames, and Data Visualization/Data Visualization with Seaborn)\n",
    "\n",
    "## 1. Explore [this dataset on infectious diseases from the CA Dept. of Public Health](https://catalog.data.gov/dataset/infectious-diseases-by-disease-county-year-and-sex-d8912)."
   ]
  },
  {
   "cell_type": "code",
   "execution_count": null,
   "metadata": {
    "id": "ynYux71PE8q6"
   },
   "outputs": [],
   "source": [
    "# Download the dataset using Python functions\n",
    "from urllib.request import urlretrieve"
   ]
  },
  {
   "cell_type": "code",
   "execution_count": null,
   "metadata": {
    "colab": {
     "base_uri": "https://localhost:8080/"
    },
    "id": "L0d5uQalMMcz",
    "outputId": "ac4eb7e6-359b-4214-8674-7370b2a439a6"
   },
   "outputs": [],
   "source": [
    "dataset_url = 'https://data.chhs.ca.gov/dataset/03e61434-7db8-4a53-a3e2-1d4d36d6848d/resource/75019f89-b349-4d5e-825d-8b5960fc028c/download/odp_idb_2001_2022_ddg_compliant.csv'\n",
    "data_file_name = 'dataset.csv'\n",
    "urlretrieve(dataset_url, data_file_name)"
   ]
  },
  {
   "cell_type": "code",
   "execution_count": null,
   "metadata": {
    "id": "v12r_RQxZZUm"
   },
   "outputs": [],
   "source": [
    "# Use pandas dataframes to explore the dataset\n",
    "import pandas as pd"
   ]
  },
  {
   "cell_type": "code",
   "execution_count": null,
   "metadata": {
    "id": "eKf4TJ5lNE2H"
   },
   "outputs": [],
   "source": [
    "df = pd.read_csv(data_file_name)"
   ]
  },
  {
   "cell_type": "code",
   "execution_count": null,
   "metadata": {
    "colab": {
     "base_uri": "https://localhost:8080/"
    },
    "id": "88OLrYYDa-y1",
    "outputId": "648454dc-1fae-4636-85fa-4805ccc0bd1d"
   },
   "outputs": [],
   "source": [
    "# A useful attribute that tells you the rows and columns of a dataframe is `dataframe.shape`\n",
    "df.shape"
   ]
  },
  {
   "cell_type": "code",
   "execution_count": null,
   "metadata": {
    "colab": {
     "base_uri": "https://localhost:8080/",
     "height": 206
    },
    "id": "gQ0IGG1GaVlp",
    "outputId": "cb81f26d-ff80-42a8-d7bf-3e84ceb10b98"
   },
   "outputs": [],
   "source": [
    "# A useful function that shows you the first 5 rows of a dataframe is `dataframe.head()`\n",
    "df.head()"
   ]
  },
  {
   "cell_type": "code",
   "execution_count": null,
   "metadata": {},
   "outputs": [],
   "source": [
    "# `.value_counts()` gives you a count of the number of occurrences (rows) for each column value\n",
    "df['Disease'].value_counts()"
   ]
  },
  {
   "cell_type": "code",
   "execution_count": null,
   "metadata": {},
   "outputs": [],
   "source": [
    "# Use `dataframe.loc[]` to subset the data and view aspects you're interested in.\n",
    "df.loc[(df['Disease'] == 'Anaplasmosis') & (df['Cases'] > 0), :]"
   ]
  },
  {
   "cell_type": "code",
   "execution_count": null,
   "metadata": {
    "id": "hkUYmr5Dgk5b"
   },
   "outputs": [],
   "source": [
    "# The following line tells the notebook to display the figures when it's generated\n",
    "%matplotlib inline\n",
    "\n",
    "# Import seaborn\n",
    "import seaborn as sns\n",
    "\n",
    "# Apply a theme\n",
    "sns.set_context(\"notebook\", font_scale=1.0)"
   ]
  },
  {
   "cell_type": "markdown",
   "metadata": {
    "id": "I77a_vMUqS6c"
   },
   "source": [
    "## 2. Select a disease of your choice. Plot the number of cases of that disease by county, for the year 2022.\n",
    "\n",
    "Here is an overview of seaborn's plotting functions: https://seaborn.pydata.org/tutorial/function_overview.html . Use the guide to complete the functions in the code below to plot the number of cases by county for 2022."
   ]
  },
  {
   "cell_type": "code",
   "execution_count": null,
   "metadata": {
    "colab": {
     "base_uri": "https://localhost:8080/",
     "height": 480
    },
    "id": "cJqIn0Rv5NyH",
    "outputId": "b21a5175-43ff-42d4-ecaa-27352f7f6e7e"
   },
   "outputs": [],
   "source": [
    "# Provide the functions with the appropriate arguments for making your plot.\n",
    "ax = sns.barplot()\n",
    "ax.set_title()\n",
    "ax.get_figure()"
   ]
  },
  {
   "cell_type": "markdown",
   "metadata": {
    "id": "O4SLeuBnqYV1"
   },
   "source": [
    "## 3. Select a disease of your choice. Plot the number of cases of that disease in Los Angeles between the years 2001-2010."
   ]
  },
  {
   "cell_type": "markdown",
   "metadata": {
    "id": "eYZAbijXfIt4"
   },
   "source": [
    "## 4. Create another plot of your choice, with an appropriate title."
   ]
  }
 ],
 "metadata": {
  "colab": {
   "provenance": []
  },
  "kernelspec": {
   "display_name": "Python 3 (ipykernel)",
   "language": "python",
   "name": "python3"
  },
  "language_info": {
   "codemirror_mode": {
    "name": "ipython",
    "version": 3
   },
   "file_extension": ".py",
   "mimetype": "text/x-python",
   "name": "python",
   "nbconvert_exporter": "python",
   "pygments_lexer": "ipython3",
   "version": "3.10.13"
  }
 },
 "nbformat": 4,
 "nbformat_minor": 4
}
