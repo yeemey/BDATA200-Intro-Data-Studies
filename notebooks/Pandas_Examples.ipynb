{
 "cells": [
  {
   "cell_type": "markdown",
   "metadata": {
    "id": "ddqCILuSqeoP"
   },
   "source": [
    "# How to..."
   ]
  },
  {
   "cell_type": "code",
   "execution_count": 1,
   "metadata": {
    "id": "cN3TFhUakkPT"
   },
   "outputs": [],
   "source": [
    "import pandas as pd\n"
   ]
  },
  {
   "cell_type": "markdown",
   "metadata": {
    "id": "E2yU42zL-3No"
   },
   "source": [
    "## ...check the version of pandas?"
   ]
  },
  {
   "cell_type": "code",
   "execution_count": 2,
   "metadata": {
    "colab": {
     "base_uri": "https://localhost:8080/"
    },
    "id": "tCtjC3L5-9Eq",
    "outputId": "066e0436-4fe7-45a6-a5b1-10954d2f53b5"
   },
   "outputs": [
    {
     "name": "stdout",
     "output_type": "stream",
     "text": [
      "1.3.4\n"
     ]
    }
   ],
   "source": [
    "print(pd.__version__)"
   ]
  },
  {
   "cell_type": "markdown",
   "metadata": {
    "id": "TKt6qNk2qo5A"
   },
   "source": [
    "## ...construct a dataframe with a dictionary?\n",
    "\n",
    "[pandas doc on the DataFrame constructor](https://pandas.pydata.org/pandas-docs/stable/reference/api/pandas.DataFrame.html)"
   ]
  },
  {
   "cell_type": "code",
   "execution_count": 3,
   "metadata": {
    "id": "yGtIiqFOkomj"
   },
   "outputs": [],
   "source": [
    "# Using a DataFrame constructor\n",
    "df = pd.DataFrame({'Dates': ['2/22/2024', '2/29/2024', '1/1/2000'], 'Events': ['This is today', 'Additional day on a leap year', 'Y2K']})"
   ]
  },
  {
   "cell_type": "code",
   "execution_count": 4,
   "metadata": {
    "colab": {
     "base_uri": "https://localhost:8080/",
     "height": 143
    },
    "id": "diWNr7EhlOEE",
    "outputId": "0250326d-cfe3-4162-f007-7885e8340bc5"
   },
   "outputs": [
    {
     "data": {
      "text/html": [
       "<div>\n",
       "<style scoped>\n",
       "    .dataframe tbody tr th:only-of-type {\n",
       "        vertical-align: middle;\n",
       "    }\n",
       "\n",
       "    .dataframe tbody tr th {\n",
       "        vertical-align: top;\n",
       "    }\n",
       "\n",
       "    .dataframe thead th {\n",
       "        text-align: right;\n",
       "    }\n",
       "</style>\n",
       "<table border=\"1\" class=\"dataframe\">\n",
       "  <thead>\n",
       "    <tr style=\"text-align: right;\">\n",
       "      <th></th>\n",
       "      <th>Dates</th>\n",
       "      <th>Events</th>\n",
       "    </tr>\n",
       "  </thead>\n",
       "  <tbody>\n",
       "    <tr>\n",
       "      <th>0</th>\n",
       "      <td>2/22/2024</td>\n",
       "      <td>This is today</td>\n",
       "    </tr>\n",
       "    <tr>\n",
       "      <th>1</th>\n",
       "      <td>2/29/2024</td>\n",
       "      <td>Additional day on a leap year</td>\n",
       "    </tr>\n",
       "    <tr>\n",
       "      <th>2</th>\n",
       "      <td>1/1/2000</td>\n",
       "      <td>Y2K</td>\n",
       "    </tr>\n",
       "  </tbody>\n",
       "</table>\n",
       "</div>"
      ],
      "text/plain": [
       "       Dates                         Events\n",
       "0  2/22/2024                  This is today\n",
       "1  2/29/2024  Additional day on a leap year\n",
       "2   1/1/2000                            Y2K"
      ]
     },
     "execution_count": 4,
     "metadata": {},
     "output_type": "execute_result"
    }
   ],
   "source": [
    "df"
   ]
  },
  {
   "cell_type": "markdown",
   "metadata": {
    "id": "n0YfxOG0rUFM"
   },
   "source": [
    "## ...split the string values of one column and assign to new columns?\n",
    "\n",
    "In this example, the strings in the \"Dates\" column is split by the \"/\" separator into a list of values that are then assigned to three different columns: \"Month\", \"Day\", and \"Year.\"\n",
    "\n",
    "[Applying string methods to text values in dataframe columns](https://pandas.pydata.org/pandas-docs/stable/user_guide/text.html#text-string-methods)\n",
    "\n",
    "[Python built-in `split` function](https://docs.python.org/3/library/stdtypes.html#str.split)"
   ]
  },
  {
   "cell_type": "code",
   "execution_count": 5,
   "metadata": {
    "id": "-WQ_f73IlPFT"
   },
   "outputs": [],
   "source": [
    "df[['Month', 'Day', 'Year']] = df['Dates'].str.split('/', expand=True)"
   ]
  },
  {
   "cell_type": "code",
   "execution_count": 6,
   "metadata": {
    "colab": {
     "base_uri": "https://localhost:8080/",
     "height": 143
    },
    "id": "EQP3gaLklyoN",
    "outputId": "8875e06f-e4dd-4882-904e-c07b2cd86708"
   },
   "outputs": [
    {
     "data": {
      "text/html": [
       "<div>\n",
       "<style scoped>\n",
       "    .dataframe tbody tr th:only-of-type {\n",
       "        vertical-align: middle;\n",
       "    }\n",
       "\n",
       "    .dataframe tbody tr th {\n",
       "        vertical-align: top;\n",
       "    }\n",
       "\n",
       "    .dataframe thead th {\n",
       "        text-align: right;\n",
       "    }\n",
       "</style>\n",
       "<table border=\"1\" class=\"dataframe\">\n",
       "  <thead>\n",
       "    <tr style=\"text-align: right;\">\n",
       "      <th></th>\n",
       "      <th>Dates</th>\n",
       "      <th>Events</th>\n",
       "      <th>Month</th>\n",
       "      <th>Day</th>\n",
       "      <th>Year</th>\n",
       "    </tr>\n",
       "  </thead>\n",
       "  <tbody>\n",
       "    <tr>\n",
       "      <th>0</th>\n",
       "      <td>2/22/2024</td>\n",
       "      <td>This is today</td>\n",
       "      <td>2</td>\n",
       "      <td>22</td>\n",
       "      <td>2024</td>\n",
       "    </tr>\n",
       "    <tr>\n",
       "      <th>1</th>\n",
       "      <td>2/29/2024</td>\n",
       "      <td>Additional day on a leap year</td>\n",
       "      <td>2</td>\n",
       "      <td>29</td>\n",
       "      <td>2024</td>\n",
       "    </tr>\n",
       "    <tr>\n",
       "      <th>2</th>\n",
       "      <td>1/1/2000</td>\n",
       "      <td>Y2K</td>\n",
       "      <td>1</td>\n",
       "      <td>1</td>\n",
       "      <td>2000</td>\n",
       "    </tr>\n",
       "  </tbody>\n",
       "</table>\n",
       "</div>"
      ],
      "text/plain": [
       "       Dates                         Events Month Day  Year\n",
       "0  2/22/2024                  This is today     2  22  2024\n",
       "1  2/29/2024  Additional day on a leap year     2  29  2024\n",
       "2   1/1/2000                            Y2K     1   1  2000"
      ]
     },
     "execution_count": 6,
     "metadata": {},
     "output_type": "execute_result"
    }
   ],
   "source": [
    "df"
   ]
  },
  {
   "cell_type": "markdown",
   "metadata": {
    "id": "LYhYmyza-l2X"
   },
   "source": [
    "## ...check the type of data in a column?\n",
    "- `dtype('O')` are objects, which are Python strings.\n",
    "- `dtype('int64')` are integers.\n",
    "- `dtype('float64')` are floating-point numbers.\n"
   ]
  },
  {
   "cell_type": "code",
   "execution_count": 7,
   "metadata": {
    "colab": {
     "base_uri": "https://localhost:8080/"
    },
    "id": "rKuppX-1mDeg",
    "outputId": "e5288329-0562-4a54-e9e4-d628a9e78f38"
   },
   "outputs": [
    {
     "data": {
      "text/plain": [
       "dtype('O')"
      ]
     },
     "execution_count": 7,
     "metadata": {},
     "output_type": "execute_result"
    }
   ],
   "source": [
    "df['Year'].dtypes"
   ]
  },
  {
   "cell_type": "markdown",
   "metadata": {
    "id": "Jjmy7eRqAjoU"
   },
   "source": [
    "## ...change the type of data in one column?"
   ]
  },
  {
   "cell_type": "code",
   "execution_count": 8,
   "metadata": {
    "id": "DSvgtfa8_h8J"
   },
   "outputs": [],
   "source": [
    "df['Year'] = pd.to_numeric(df['Year'])"
   ]
  },
  {
   "cell_type": "code",
   "execution_count": 9,
   "metadata": {
    "colab": {
     "base_uri": "https://localhost:8080/"
    },
    "id": "xccPLL7hAwn0",
    "outputId": "bbdd0040-c61e-4a17-dae8-6b0aee79a66f"
   },
   "outputs": [
    {
     "data": {
      "text/plain": [
       "dtype('int64')"
      ]
     },
     "execution_count": 9,
     "metadata": {},
     "output_type": "execute_result"
    }
   ],
   "source": [
    "df['Year'].dtypes"
   ]
  },
  {
   "cell_type": "markdown",
   "metadata": {
    "id": "0rkuxvUdYcG7"
   },
   "source": [
    "## ...change the type of data in multiple columns at once?"
   ]
  },
  {
   "cell_type": "code",
   "execution_count": 10,
   "metadata": {
    "colab": {
     "base_uri": "https://localhost:8080/"
    },
    "id": "drV2quGaZAyJ",
    "outputId": "e204a442-1c53-43c7-c5ff-24e863c96354"
   },
   "outputs": [
    {
     "name": "stdout",
     "output_type": "stream",
     "text": [
      "object object\n"
     ]
    }
   ],
   "source": [
    "# From objects...\n",
    "print(df['Day'].dtypes, df['Month'].dtypes)"
   ]
  },
  {
   "cell_type": "code",
   "execution_count": 11,
   "metadata": {
    "colab": {
     "base_uri": "https://localhost:8080/"
    },
    "id": "Eac6Ih9cYgSa",
    "outputId": "5343b055-d2e6-40c5-842d-8e514206bed9"
   },
   "outputs": [
    {
     "name": "stdout",
     "output_type": "stream",
     "text": [
      "int64 int64\n"
     ]
    }
   ],
   "source": [
    "# ...to integers.\n",
    "df[['Day', 'Month']] = df[['Day', 'Month']].apply(pd.to_numeric, errors='coerce', axis=1)\n",
    "print(df['Day'].dtypes, df['Month'].dtypes)"
   ]
  },
  {
   "cell_type": "markdown",
   "metadata": {
    "id": "rY9BVDJeWW5n"
   },
   "source": [
    "## ...do math operations on column values?\n",
    "Some useful operations:\n",
    "- Add: [`add()`](https://pandas.pydata.org/pandas-docs/stable/reference/api/pandas.Series.add.html)\n",
    "- Subtract: [`sub()`](https://pandas.pydata.org/pandas-docs/stable/reference/api/pandas.Series.sub.html)\n",
    "- Multiply: [`mul()`](https://pandas.pydata.org/pandas-docs/stable/reference/api/pandas.Series.mul.html)\n",
    "- Divide: [`div()`](https://pandas.pydata.org/pandas-docs/stable/reference/api/pandas.Series.div.html)\n",
    "\n",
    "See example usage below:"
   ]
  },
  {
   "cell_type": "code",
   "execution_count": 12,
   "metadata": {
    "id": "7fA6zobcWg4I"
   },
   "outputs": [],
   "source": [
    "# This multiplies all values in the 'Month' column with all values in the 'Day' column\n",
    "# and assigns the results to a new column, 'Day_of_Year'\n",
    "df['Day_of_Year'] = df['Month'].mul(df['Day'])"
   ]
  },
  {
   "cell_type": "code",
   "execution_count": 13,
   "metadata": {
    "id": "ExffMtXDZy4M"
   },
   "outputs": [],
   "source": [
    "## This divides all values in one column by a number\n",
    "# and assigns the values to a new column."
   ]
  },
  {
   "cell_type": "code",
   "execution_count": 14,
   "metadata": {
    "id": "F5Otfg4MZgNX"
   },
   "outputs": [],
   "source": [
    "df['Proportion_of_Year'] = df['Day_of_Year'].div(365)"
   ]
  },
  {
   "cell_type": "code",
   "execution_count": 15,
   "metadata": {
    "colab": {
     "base_uri": "https://localhost:8080/",
     "height": 143
    },
    "id": "0meSbhfaafZ8",
    "outputId": "edc6f70a-8f08-4d37-dad4-6fdae107a860"
   },
   "outputs": [
    {
     "data": {
      "text/html": [
       "<div>\n",
       "<style scoped>\n",
       "    .dataframe tbody tr th:only-of-type {\n",
       "        vertical-align: middle;\n",
       "    }\n",
       "\n",
       "    .dataframe tbody tr th {\n",
       "        vertical-align: top;\n",
       "    }\n",
       "\n",
       "    .dataframe thead th {\n",
       "        text-align: right;\n",
       "    }\n",
       "</style>\n",
       "<table border=\"1\" class=\"dataframe\">\n",
       "  <thead>\n",
       "    <tr style=\"text-align: right;\">\n",
       "      <th></th>\n",
       "      <th>Dates</th>\n",
       "      <th>Events</th>\n",
       "      <th>Month</th>\n",
       "      <th>Day</th>\n",
       "      <th>Year</th>\n",
       "      <th>Day_of_Year</th>\n",
       "      <th>Proportion_of_Year</th>\n",
       "    </tr>\n",
       "  </thead>\n",
       "  <tbody>\n",
       "    <tr>\n",
       "      <th>0</th>\n",
       "      <td>2/22/2024</td>\n",
       "      <td>This is today</td>\n",
       "      <td>2</td>\n",
       "      <td>22</td>\n",
       "      <td>2024</td>\n",
       "      <td>44</td>\n",
       "      <td>0.120548</td>\n",
       "    </tr>\n",
       "    <tr>\n",
       "      <th>1</th>\n",
       "      <td>2/29/2024</td>\n",
       "      <td>Additional day on a leap year</td>\n",
       "      <td>2</td>\n",
       "      <td>29</td>\n",
       "      <td>2024</td>\n",
       "      <td>58</td>\n",
       "      <td>0.158904</td>\n",
       "    </tr>\n",
       "    <tr>\n",
       "      <th>2</th>\n",
       "      <td>1/1/2000</td>\n",
       "      <td>Y2K</td>\n",
       "      <td>1</td>\n",
       "      <td>1</td>\n",
       "      <td>2000</td>\n",
       "      <td>1</td>\n",
       "      <td>0.002740</td>\n",
       "    </tr>\n",
       "  </tbody>\n",
       "</table>\n",
       "</div>"
      ],
      "text/plain": [
       "       Dates                         Events  Month  Day  Year  Day_of_Year  \\\n",
       "0  2/22/2024                  This is today      2   22  2024           44   \n",
       "1  2/29/2024  Additional day on a leap year      2   29  2024           58   \n",
       "2   1/1/2000                            Y2K      1    1  2000            1   \n",
       "\n",
       "   Proportion_of_Year  \n",
       "0            0.120548  \n",
       "1            0.158904  \n",
       "2            0.002740  "
      ]
     },
     "execution_count": 15,
     "metadata": {},
     "output_type": "execute_result"
    }
   ],
   "source": [
    "df"
   ]
  },
  {
   "cell_type": "markdown",
   "metadata": {
    "id": "XZVDuK5vIS27"
   },
   "source": [
    "## ...read data from an external source into pandas?"
   ]
  },
  {
   "cell_type": "code",
   "execution_count": 16,
   "metadata": {
    "id": "ePD1zkr-A8vS"
   },
   "outputs": [],
   "source": [
    "# Import the urlretrieve function\n",
    "from urllib.request import urlretrieve\n",
    "\n",
    "# Save the web address (url) in a python string\n",
    "dataset_url = 'https://data.chhs.ca.gov/dataset/03e61434-7db8-4a53-a3e2-1d4d36d6848d/resource/75019f89-b349-4d5e-825d-8b5960fc028c/download/odp_idb_2001_2022_ddg_compliant.csv'\n",
    "\n",
    "# Set the name of the file where we want to save the data\n",
    "data_file_name = 'ca_id.csv'\n",
    "\n",
    "# Download the data\n",
    "urlretrieve(dataset_url, data_file_name)\n",
    "\n",
    "# Load the text version of the table (a csv file) into python using pandas\n",
    "feature_table = pd.read_csv(data_file_name)"
   ]
  },
  {
   "cell_type": "markdown",
   "metadata": {
    "id": "P-uas656HMbd"
   },
   "source": [
    "## ...use `seaborn` to plot data?"
   ]
  },
  {
   "cell_type": "code",
   "execution_count": 18,
   "metadata": {
    "colab": {
     "base_uri": "https://localhost:8080/",
     "height": 513
    },
    "id": "0vnHGcW0H4kM",
    "outputId": "6126f41b-819d-48e3-819b-178998b9bd9d",
    "tags": []
   },
   "outputs": [
    {
     "data": {
      "text/plain": [
       "<seaborn.axisgrid.FacetGrid at 0x7fe0d0b4d160>"
      ]
     },
     "execution_count": 18,
     "metadata": {},
     "output_type": "execute_result"
    },
    {
     "data": {
      "image/png": "[encoded data removed]",
      "text/plain": [
       "<Figure size 1159.73x360 with 3 Axes>"
      ]
     },
     "metadata": {
      "needs_background": "light"
     },
     "output_type": "display_data"
    }
   ],
   "source": [
    "%matplotlib inline\n",
    "# Import seaborn\n",
    "import seaborn as sns\n",
    "\n",
    "# Apply a theme\n",
    "sns.set_context(\"notebook\", font_scale=1.0)\n",
    "\n",
    "# Select the data that I'm interested in\n",
    "shigellosis = feature_table.loc[(feature_table['Disease'] == 'Shigellosis') &\n",
    "                             ((feature_table['County'] == 'San Francisco') |\n",
    "                              (feature_table['County'] == 'Los Angeles') |\n",
    "                              (feature_table['County'] == 'Sacramento')) &\n",
    "                             (feature_table['Sex'] != 'Total')]\n",
    "\n",
    "ax = sns.catplot(kind='bar', data=shigellosis, x='Year', y='Cases', hue='Sex', col='County')\n",
    "# Rotate labels\n",
    "ax.tick_params(axis='x', rotation=90)\n",
    "ax.set_titles(\"Shigellosis in {col_name} {col_var}\")"
   ]
  },
  {
   "cell_type": "markdown",
   "metadata": {
    "id": "mC9Lcv_fdwzJ"
   },
   "source": [
    "## ...plot the value counts of column?\n",
    "In this example we're using a histogram to count the number of occurrences of values in the `'Year'` column."
   ]
  },
  {
   "cell_type": "code",
   "execution_count": 19,
   "metadata": {},
   "outputs": [
    {
     "data": {
      "text/plain": [
       "<Axes: xlabel='Year', ylabel='Count'>"
      ]
     },
     "execution_count": 19,
     "metadata": {},
     "output_type": "execute_result"
    },
    {
     "data": {
      "image/png": "[encoded data removed]",
      "text/plain": [
       "<Figure size 432x288 with 1 Axes>"
      ]
     },
     "metadata": {
      "needs_background": "light"
     },
     "output_type": "display_data"
    }
   ],
   "source": [
    "sns.histplot(data=df, x='Year', binwidth=1)"
   ]
  },
  {
   "cell_type": "code",
   "execution_count": null,
   "metadata": {},
   "outputs": [],
   "source": []
  }
 ],
 "metadata": {
  "colab": {
   "provenance": []
  },
  "kernelspec": {
   "display_name": "Python 3 (ipykernel)",
   "language": "python",
   "name": "python3"
  },
  "language_info": {
   "codemirror_mode": {
    "name": "ipython",
    "version": 3
   },
   "file_extension": ".py",
   "mimetype": "text/x-python",
   "name": "python",
   "nbconvert_exporter": "python",
   "pygments_lexer": "ipython3",
   "version": "3.8.12"
  }
 },
 "nbformat": 4,
 "nbformat_minor": 4
}
